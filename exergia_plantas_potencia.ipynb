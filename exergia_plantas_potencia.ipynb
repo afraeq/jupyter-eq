{
 "cells": [
  {
   "cell_type": "markdown",
   "metadata": {},
   "source": [
    "# Análise Exergética de Plantas de Potência a Vapor"
   ]
  },
  {
   "cell_type": "markdown",
   "metadata": {},
   "source": [
    "por [Afrânio](http://afrjr.weebly.com) - [LMSCP - Laboratório de Modelagem, Simulação e Controle de Processos - PEQ/COPPE/UFRJ](http://www.coppe.ufrj.br/pt-br/pesquisa/laboratorios/laboratorio-de-modelagem-simulacao-e-controle-de-processos-lmscp)\n",
    "\n",
    "18/12/2017"
   ]
  },
  {
   "cell_type": "markdown",
   "metadata": {
    "ExecuteTime": {
     "end_time": "2017-12-12T22:56:00.964445Z",
     "start_time": "2017-12-12T22:56:00.956442Z"
    }
   },
   "source": [
    "Este [notebook Jupyter](http://jupyter.org/) introduz o conceito de *exergia* e sua aplicação na análise de processos. A exergia, definida como o trabalho ideal associado à transformação que leva um sistema até o equilíbrio com sua vizinhança, representa uma maneira conveniente de expressar as irreversibilidades de processos e, portanto, de mensurar as limitações de eficiência impostas à engenharia pela natureza. A título de ilustração, são analisados processos de geração de potência a partir do vapor.\n",
    "\n",
    "Este *notebook* foi elaborado como trabalho final da disciplina COQ836 - Termodinâmica de Processos Irreversíveis, oferecida pelo professor [Fred](mailto:tavares@eq.ufrj.br) no [Programa de Engenharia Química da COPPE-UFRJ](http://portal.peq.coppe.ufrj.br/). A estrutura do texto é baseada nos livros de [Çengel e Boyles (2015)](https://www.amazon.com/Thermodynamics-Engineering-Yunus-Cengel-Dr/dp/0073398179), [Demirel (2014)](https://www.elsevier.com/books/nonequilibrium-thermodynamics/demirel/978-0-444-59557-7) e [Tassios (1993)](http://www.springer.com/br/book/9783662016473). Os códigos estão escritos na linguagem [Python 3.6](https://www.python.org/) e utilizam as bibliotecas [Sympy](http://www.sympy.org/), [NumPy](http://www.numpy.org/), [Matplotlib](https://matplotlib.org/) e [IAWPS](https://pypi.python.org/pypi/iapws).\n"
   ]
  },
  {
   "cell_type": "markdown",
   "metadata": {},
   "source": [
    "<img src=\"https://www.rockwellautomation.com/resources/images/rockwellautomation/publication/Power_Plant_shutterstock_92452177--photograph_848w477h.jpg\" width=\"600\"/>"
   ]
  },
  {
   "cell_type": "code",
   "execution_count": 1,
   "metadata": {
    "ExecuteTime": {
     "end_time": "2017-12-20T09:36:10.550544Z",
     "start_time": "2017-12-20T09:36:08.213110Z"
    },
    "collapsed": true
   },
   "outputs": [],
   "source": [
    "# importando os módulos necessários\n",
    "\n",
    "import sympy\n",
    "import numpy as np\n",
    "from iapws import IAPWS97\n",
    "import matplotlib.pyplot as plt\n",
    "%matplotlib inline"
   ]
  },
  {
   "cell_type": "markdown",
   "metadata": {},
   "source": [
    "## 1. Revisão de conceitos importantes\n",
    "\n",
    "### 1.1 - Primeira e Segunda Leis da Termodinâmica\n",
    "\n",
    "* *“Todos os animais são iguais, mas alguns animais são mais iguais que outros”*.\n",
    "\n",
    "A frase acima está presente no clássico da literatura [A Revolução dos Bichos](https://www.amazon.com/Animal-farm-Fairy-George-Orwell/dp/0451526341/ref=sr_1_1?ie=UTF8&qid=1513534808&sr=8-1&keywords=animal+farm), de George Orwell. Nessa fábula, lançada em 1945, o autor faz uma sátira às revoluções socialistas que resultaram em regimes totalitários, em especial à Revolução Russa. Ao longo do enredo, a revolução dos animais na fazenda contra o sistema opressor dos humanos se transforma aos poucos e sutilmente em um novo sistema de opressão de uma classe particular dos animais (no caso, os porcos) contra as demais classes. A célebre citação representa a culminância da degradação dos ideais igualitários da revolução. O sentido da própria palavra \"igual\" é corrompido: deixa de denotar algo absoluto, aplicável a todos de maneira equivalente, para se tornar um conceito relativo e passível de gradação.\n",
    "\n",
    "<img src=\"http://www.scarrablog.com.au/resources/uploads/2017/09/AF1.jpg\" width=\"600\"/>\n",
    "\n",
    "Ok. Tudo muito interessante, mas o tema deste *notebook* não é literatura. O que isso tem a ver com a termodinâmica, afinal? No livro [Availability (Exergy) Analysis](https://www.amazon.com/Availability-Exergy-Analysis-Instruction-Manual/dp/B0006YV9FA/ref=sr_1_sc_1?ie=UTF8&qid=1513534724&sr=8-1-spell&keywords=availabilty+analysis+sussman), M. V. Sussman apresenta a seguinte frase: \n",
    "\n",
    "* *“Todos os joules são iguais, mas alguns joules são mais iguais que outros”*.\n",
    "\n",
    "Que paródia interessante! Ela sintetiza de forma perspicaz o sentido das duas leis, e, portanto, de toda a teia lógica da termodinâmica: *todos os joules são iguais* (1&ordf; lei!), mas *alguns joules são mais iguais que outros* (2&ordf; lei!)."
   ]
  },
  {
   "cell_type": "markdown",
   "metadata": {},
   "source": [
    "#### 1.1.1 - A primeira lei e seu aspecto democrático: todos os joules são iguais\n",
    "\n",
    "Antes de prosseguir a leitura, responda rápido: *o que é energia?*\n",
    "\n",
    "É bem possível que você tenha engasgado na resposta, por mais que esse conceito seja onipresente tanto no corpo geral de conhecimentos científicos quanto no senso comum. Ouve-se falar de energia por toda parte, mas raramente depara-se com questionamentos sobre *o que ela é*. \n",
    "\n",
    "Para refletir mais a fundo sobre essa questão, é útil pensar nas várias formas que a energia assume:\n",
    "\n",
    "* energia mecânica;\n",
    "* energia térmica;\n",
    "* energia elétrica;\n",
    "* energia nuclear; \n",
    "* energia química;\n",
    "* etc...\n",
    "\n",
    "Do ponto de vista puramente sensorial, todos esses entes físicos são bem diferentes. Nossa principal forma de contato com o mundo são os nossos sentidos, e, de acordo com eles, não há nenhuma semelhança entre o que sentimos quando interagimos com a energia elétrica ou com a energia térmica, por exemplo. A equivalência entre esses entes, portanto, não é nada óbvia. Apesar disso, os agrupamos sob o manto de um mesmo conceito unificador, o conceito de energia.\n",
    "\n",
    "Quando se afirma que tais entes físicos são na verdade diferentes particularizações de um mesmo conceito genérico, no fundo o que se faz é estabelecer uma equivalência lógica entre eles. Mas qual característica comum a todos eles permite estabelecer essa equivalência?\n",
    "\n",
    "A resposta é: *a possibilidade de interconversão*. A energia elétrica pode ser transformada na energia térmica, que pode ser transformada na energia mecânica, e assim por diante. A primeira lei da termodinâmica afirma que *todos os tipos de energia podem se interconverter, e no curso dessas interconversões, a energia total do universo permanece constante.* Do ponto de vista da primeira lei, portanto, as várias formas de energia são equivalentes e contribuem na mesma proporção para a energia total do universo, cuja magnitude não muda.\n",
    "\n",
    "Nos cursos de termodinâmica, a forma mais comum da primeira lei é aquela válida para sistemas fechados:\n",
    "\n",
    "$$ \\Delta U = Q + W $$\n",
    "\n",
    "Nessa equação, o calor $Q$ (transferência de energia térmica) e o trabalho $W$ (transferência das demais formas de energia) são considerados grandezas equivalentes que contribuem da mesma forma para a variação da energia interna de um sistema. \n",
    "\n",
    "A primeira lei fornece boas indicações sobre a natureza da energia: é algo que se transforma, tanto em termos de forma quanto em termos de distribuição espacial, mas que se mantém invariante ao longo do tempo. Para uma visão completa, no entanto, é preciso analisar a segunda lei da termodinâmica."
   ]
  },
  {
   "cell_type": "markdown",
   "metadata": {},
   "source": [
    "#### 1.1.2 - A segunda lei e seu aspecto discriminatório: alguns joules são mais iguais do que outros!\n",
    "\n",
    "Enquanto a primeira lei estabelece uma equivalência entre os vários tipos de energia, a segunda lei da termodinâmica vai no sentido contrário e introduz uma *intrínseca distinção*. Existem vários enunciados da segunda lei, sendo o elaborado por Kelvin o mais útil para a presente discussão: *nenhum processo pode ter como único efeito a conversão completa de calor em trabalho*. Como *calor* é sinônimo de transferência de energia térmica, o que esse enunciado quer dizer é que a energia térmica essencialmente difere de todas as outras. Enquanto as demais formas de energia são totalmente interconvertíveis, é impossível transformar 100% de uma certa quantidade de energia térmica em qualquer outra forma de energia. Por exemplo, enquanto, a princípio, 1J de energia mecânica pode ser convertido em 1J de energia elétrica, é impossível transformar 1J de energia térmica em 1J de energia elétrica, por mais eficiente que seja o processo. Quando muito, 1J de energia térmica forneceria por volta de 0,5J de energia elétrica.\n",
    "\n",
    "Uma consequência prática da segunda lei, de enorme importância para a engenharia, é a *intrínseca menor utilidade atribuída à energia térmica em relação às demais formas de energia* (quando se entende *utilidade* como o uso potencial dessa energia para gerar transformações). Além do mais, veremos mais à frente que a própria energia térmica apresenta vários graus de utilidade, a depender das condições em que se encontra.\n",
    "\n",
    "Chama-se *degradação da energia* o processo contínuo e inexorável da diminuição da utilidade da energia. Enquanto a primeira lei afirma que a *quantidade* total de energia no universo é fixa, a segunda lei diz que a *qualidade* da energia diminui constantemente.\n",
    "\n",
    "Processos que ocorrem sem degradação de energia são chamados de *processos reversíveis*. Tais processos não ocorrem na realidade, constituindo apenas idealizações que representam o limite máximo de eficiência permitido pela segunda lei da termodinâmica. Quanto mais perto nossos processos se encontram da reversibilidade, melhores engenheiros nós somos. \n",
    "\n",
    "Algumas características dos processos reversíveis:\n",
    "\n",
    "* nunca estão mais do que infinitesimalmente afastados do estado de equilíbrio. Obviamente, um *processo* não pode estar em equilíbrio (já que, na presente discussão, equilíbrio é entendido como ausência de mudanças ao longo do tempo). No entanto, o tipo de processo que mais se aproxima do equilíbrio é o reversível;\n",
    "\n",
    "* ocorrem como *uma sucessão de estados de equilíbrio*. Dessa maneira, eles podem ser revertidos em qualquer ponto por uma variação infinitesimal das condições externas, já que nunca estão mais do que infinitesimalmente afastados do estado de equilíbrio;\n",
    "\n",
    "* ao serem revertidos, nenhum traço dessa operação é deixada nas vizinhanças;\n",
    "\n",
    "* ocorrem sem forças dissipativas (i.e, atrito) ou qualquer outro fator que cause degradação de energia.\n",
    "\n",
    "Quanto maior a irreversibilidade de um processo, mais ineficiente ele é do ponto de vista da utilização da energia."
   ]
  },
  {
   "cell_type": "markdown",
   "metadata": {},
   "source": [
    "#### 1.1.3 - Nota sobre aspectos ontológicos do conceito de energia\n",
    "\n",
    "Já aprendemos bastante sobre a energia, mas ainda não entendemos realmente *o que ela é*. Algo parece estar faltando em toda essa discussão. E, de fato, muita coisa está faltando. Nos dias de hoje, ainda não é possível avançar nessa questão de um ponto de vista puramente científico. \n",
    "\n",
    "[Ontologia](https://pt.wikipedia.org/wiki/Ontologia) é a área da filosofia que trata da natureza da realidade e da existência. Portanto, perguntar *o que é a energia* hoje é formular uma pergunta essencialmente ontológica, que se adequa mais ao campo da metafísica (ramo da filosofia) do que da física (ramo da ciência). Se pensarmos bem, levando em conta todo o corpo de conhecimentos científicos gerados pela humanidade até hoje, a pergunta \"o que é energia\" realmente não tem muita importância. É raro encontrá-la discutida em periódicos científicos, livros-textos, aulas, etc...\n",
    "\n",
    "Um dos principais objetivos da ciência é *descrever a realidade por meio de modelos*. Sabendo disso, fica fácil entender a utilidade do conceito de energia, já que *toda transformação da realidade física pode ser modelada por meio de uma transformação de energia*. Por exemplo, quanto mais energia de um determinado tipo possui um corpo, maior a tendência desse corpo de passar para um estado em que possui menos energia desse tipo (perdendo-a para as vizinhanças ou transformando-a internamente em outro tipo). Pode-se dizer então que a *energia é o modelo básico usado pela ciência para descrição da dinâmica da realidade*.\n",
    "\n",
    "Na filosofia, a discussão metafísica vai mais a fundo. Surge a seguinte pergunta: a energia é apenas uma abstração matemática, uma ferramenta criada para que se descreva a realidade, ou ela é um aspecto intrínseco da realidade, uma *coisa* que realmente existe e está à nossa volta? Em outras palavras: o conceito de energia foi elaborado para construir os modelos ou a energia é um aspecto da realidade descrito pelos modelos? Como toda questão filosófica, muitos já tentaram respondê-la, sem se chegar a um consenso. Aos que se interessam pela discussão, aconselho a consultar referências na área de filosofia da física, como [MC Ginn (2012)](http://www.oxfordscholarship.com/view/10.1093/acprof:oso/9780199841103.001.0001/acprof-9780199841103), em que um dos capítulos se dedica a apresentar argumentos de que a energia é algo que faz parte da realidade concreta e não apenas do mundo das abstrações. \n",
    "\n",
    "Como não é possível definir *o que é a energia* de forma clara, é bom tomar cuidado com as várias tentativas de definição que abundam por aí. Muitas delas são simplesmente falsas. Uma das mais populares afirma que \"energia é a capacidade de produzir trabalho\". 1J de energia térmica, de acordo com essa definição, seria de alguma forma \"menos energético\" do que 1J de energia elétrica, já que sua capacidade de produzir trabalho é menor."
   ]
  },
  {
   "cell_type": "markdown",
   "metadata": {},
   "source": [
    "### 1.2. Máquinas térmicas \n",
    "\n",
    "Termo: calor. Dinâmica: movimento. Termodinâmica: estudo do movimento causado pelo calor. O nome da ciência que estudamos, apesar de hoje não fazer jus à sua abrangência e generalidade -- quase universais -- ainda conserva na semântica as origens de sua existência. A humanidade começou a estudar a termodinâmica porque desejava gerar trabalho usando calor.\n",
    "\n",
    "Qualquer equipamento capaz de cumprir esta tarefa - transformar calor em trabalho - é denominado genericamente de *máquina térmica*.\n",
    "\n",
    "#### 1.2.1 Funcionamento\n",
    "\n",
    "A essência de uma máquina térmica é simples. Ela consiste de uma fonte de energia quente (alta $T$); um dispositivo (pistão, turbina, etc.), que transforma calor vindo da fonte quente em trabalho; e uma fonte fria (baixa $T$). Este último item muitas vezes não é claramente identificável: pode ser, por exemplo, o ambiente externo. No entanto, a fonte fria é absolutamente fundamental na estrutura da máquina e sua ausência faz com que ela não funcione. \n",
    "\n",
    "<img src=\"https://upload.wikimedia.org/wikipedia/commons/thumb/6/69/Second_law_heat_engine.png/350px-Second_law_heat_engine.png\" width=\"200\"/>\n",
    "\n",
    "Máquinas térmicas funcionam em ciclos. Um exemplo seria o de uma planta de potência a vapor, na qual o fluido de trabalho é a água. Para ilustrar, consideremos as etapas do ciclo neste caso:\n",
    "\n",
    "* água líquida, vinda de um condensador (a fonte fria), é bombeada para o interior de uma caldeira à alta pressão (a fonte quente);\n",
    "\n",
    "* energia térmica que vem da queima de um combustível é transferida para a água dentro da caldeira, convertendo-a em vapor à temperatura elevada, na pressão da caldeira;\n",
    "\n",
    "* um dispositivo -- por exemplo, uma turbina -- faz com que o vapor transmita energia para a vizinhança, na forma de trabalho de eixo, reduzindo-se assim sua temperatura e pressão;\n",
    "\n",
    "* o vapor sai da turbina e é encaminhado ao condensador, onde transfere energia térmica para a vizinhança e se transforma em água líquida, que recomeça o processo.\n",
    "\n",
    "<img src=\"http://laplace.us.es/wiki/images/2/25/Esquema-maquina-vapor.png\" width=\"350\"/>\n",
    "\n",
    "#### 1.2.2 Eficiência\n",
    "\n",
    "Um simples balanço de energia aplicado à agua (*energia que entra = energia que sai*) fornece:\n",
    "\n",
    "$$ Q_q=W+Q_f $$,\n",
    "\n",
    "sendo:\n",
    "\n",
    "* $Q_q$ é a energia que entra, ou seja, o calor vindo da fonte quente;\n",
    "\n",
    "* $W+Q_f$ é a energia que sai, onde $W$ é o trabalho que o vapor realiza e $Q_f$ é o calor liberado para a fonte fria.\n",
    "\n",
    "Todos os valores são positivos, devido à própria estrutura da equação de balanço.\n",
    "\n",
    "Rearranjando, tem-se: \n",
    "\n",
    "$$W = Qq - Qf$$.\n",
    "\n",
    "Define-se a *eficiência* da máquina como sendo a razão entre o trabalho produzido e o calor transferido na fonte quente:\n",
    "\n",
    "$$ \\eta \\equiv \\frac{W}{Q_q} $$\n",
    "\n",
    "Substituindo o valor de W, chega-se a:\n",
    "\n",
    "$$\\eta = \\frac{Q_q-Q_f}{Q_q}$$\n",
    "\n",
    "Ou, finalmente:\n",
    "\n",
    "$$  \\eta=1-\\frac{Q_f}{Q_q} $$\n",
    "\n",
    "Essa equação fornece uma informação de suma importância. Para a eficiência da máquina ser total, ou seja, de 100%, $Q_f$ tem de valer zero. Em outras palavras, para a máquina ser perfeita do ponto de vista energético (transformar todo o calor da fonte quente em trabalho), nenhum calor pode ser rejeitado na fonte fria.\n",
    "\n",
    "O único problema é que, até hoje, nenhuma máquina construída chegou nem ao menos perto deste resultado. Alguma parte do calor vindo da fonte quente *sempre* precisa ser rejeitada na fonte fria; simplesmente *não há exceção a esta regra*!\n",
    "\n",
    "Isso se dá por conta da segunda lei. A natureza cobra um imposto na transformação de calor em trabalho: parte da energia cedida pela fonte quente precisa ser paga à fonte fria na forma de calor. Isto chega a ser surpreendente, pois a fonte fria, uma das partes mais importantes de uma máquina a vapor, não é nem levada em conta no momento do projeto. No exemplo dado, ela é apenas o ambiente externo.\n",
    "\n",
    "#### 1.2.3. Máquinas reversíveis\n",
    "\n",
    "As máquinas que operam da maneira mais eficiente possível são as máquinas reversíveis. Pode-se demonstrar que a eficiência de qualquer máquina reversível é dada por:\n",
    "\n",
    "$$ \\eta= 1 - \\frac{T_f}{T_q} $$\n",
    "\n",
    "Esse é o limite máximo de eficiência que a segunda lei da termodinâmica permite atingir."
   ]
  },
  {
   "cell_type": "markdown",
   "metadata": {},
   "source": [
    "### 1.3. Trabalho ideal\n",
    "\n",
    "Trabalho ideal é o máximo trabalho possível de ser produzido (ou o mínimo trabalho possível de ser gasto) associado a um processo. Esse trabalho é aquele associado a um processo reversível que ocorre entre os mesmos estados inicial e final do processo analisado.\n",
    "\n",
    "Seja um processo genérico ocorrendo em um sistema aberto (caso mais importante na prática). Nesse caso, o balanço de energia é (desprezando-se os termos de energia cinética e potencial):\n",
    "\n",
    "$$\\Delta H = Q + W$$\n",
    "\n",
    "Ou seja, o trabalho real é:\n",
    "\n",
    "$$W = \\Delta H - Q$$\n",
    "\n",
    "O trabalho ideal é aquele associado ao processo reversível:\n",
    "\n",
    "$$ W_{id} = \\Delta H_{rev} - Q_{rev}$$\n",
    "\n",
    "Como $H$ e $S$ são funções de estado, tem-se:\n",
    "\n",
    "* $\\Delta H = \\Delta H_{rev}$\n",
    "* $Q_{rev} = T^{viz} \\Delta S^{viz}_{rev} = - T^{viz} \\Delta S$\n",
    "\n",
    "Daí: \n",
    "\n",
    "$$ W_{id} = \\Delta H - T^{viz} \\Delta S$$\n",
    "\n",
    "O trabalho perdido $W_{lost} = W - W_{id}$ é expresso como:\n",
    "\n",
    "$$ W_{lost} = T^{viz} \\Delta S^{t} $$\n",
    "\n",
    "Finalmente, o terreno está preparado para que se possa discutir o tema deste texto: *exergia*!"
   ]
  },
  {
   "cell_type": "markdown",
   "metadata": {},
   "source": [
    "## 2. Exergia\n",
    "\n",
    "### 2.1 Definicão\n",
    "\n",
    "A exergia de um sistema é o *trabalho ideal associado ao processo que leva o sistema até o equilíbrio com a vizinhança*. \n",
    "\n",
    "A exergia, portanto, é uma medida prática da capacidade máxima de um sistema de produzir trabalho. Em outras palavras, é uma medida da energia útil contida em um sistema. \n",
    "\n",
    "A exergia de um sistema a $T$ e $P$ é dada pela mesma expressão encontrada para o trabalho ideal:\n",
    "\n",
    "$$ Ex = \\Delta H - T^{viz} \\Delta S $$\n",
    "\n",
    "Deve-se ter em mente que o $\\Delta$ na equação acima refere-se ao processo que leva o sistema até o equilíbrio com a vizinhança. Na prática, adota-se em geral como condição da vizinhança a condição ambiente $P^{viz} = 1$ atm; $T^{viz} = 298$ K.\n",
    "\n",
    "A exergia discutida neste *notebook* será apenas a exergia *física*; porém, é perfeitamente possível definir exergias *química* e *de reação* ([DEMIREL, 2013](https://www.amazon.com/Nonequilibrium-Thermodynamics-Transport-Processes-Biological-ebook/dp/B00HLLMYTQ/ref=sr_1_1?ie=UTF8&qid=1513652439&sr=8-1&keywords=demirel+yasar)).\n",
    "\n",
    "### 2.2 Características da exergia\n",
    "\n",
    "Algumas características da exergia são:\n",
    "\n",
    "* A exergia é uma propriedade termodinâmica (função de estado).\n",
    "* A exergia é uma propriedade do sistema e da vizinhança em conjunto.\n",
    "* A exergia pode ser entendida como uma medida da distância a que um sistema está do equilíbrio com a vizinhança.\n",
    "* A exergia sempre é destruída em qualquer processo irreversível.\n",
    "* O valor da exergia destruída devido a irreversibilidades depende diretamente à produção de entropia e vale $Ex_{lost} = T^{viz} S_{prod}$.\n",
    "* A exergia de um sistema é completamente destruída se este chega ao equilíbrio com a vizinhança por meio de um processo que não produz trabalho.\n",
    "\n",
    "A figura abaixo ilustra o valor relativo de várias fontes de energia baseado no conteúdo de exergia.\n",
    "\n",
    "<img src=\"https://image.ibb.co/e7Xg76/exergia_comparacao.png\" width=\"200\"/>\n",
    "\n",
    "### 2.3 Exergia da energia térmica\n",
    "\n",
    "Paradoxalmente, apesar de ser a menos nobre das formas de energia, a energia térmica ainda é a principal fonte de energia da sociedade atual (por conta do grande uso de combustíveis fósseis).\n",
    "\n",
    "A exergia contida em uma certa quantidade de energia térmica $Q$, transferida na forma de calor e disponível a uma temperatura $T$, é calculada por meio da equação da eficiência da máquina térmica reversível:\n",
    "\n",
    "$$ Ex = Q\\left(1-\\frac{T^{viz}}{T}\\right) $$\n",
    "\n",
    "* A quantidade de energia térmica não utilizada, $Q-Ex$, é denominada por alguns autores como *anergia* ([TASSIOS, 1993](http://www.springer.com/br/book/9783662016473)).\n",
    "* A exergia de qualquer outra forma de energia que não a térmica é igual ao próprio valor da energia.\n",
    "\n",
    "É instrutivo visualizar o conteúdo de exergia e anergia de 1J energia térmica em função da temperatura:"
   ]
  },
  {
   "cell_type": "code",
   "execution_count": 2,
   "metadata": {
    "ExecuteTime": {
     "end_time": "2017-12-20T09:36:11.236520Z",
     "start_time": "2017-12-20T09:36:10.571679Z"
    }
   },
   "outputs": [
    {
     "data": {
      "image/png": "[encoded data removed]",
      "text/plain": [
       "<matplotlib.figure.Figure at 0x10d675588>"
      ]
     },
     "metadata": {},
     "output_type": "display_data"
    }
   ],
   "source": [
    "T = np.linspace(298.15,2000.,1000)\n",
    "\n",
    "Ex = 1.0 - 298.15/T\n",
    "An = 1.0 - Ex\n",
    "\n",
    "plt.plot(T, Ex, label='exergia')\n",
    "plt.plot(T, An,'--', label='anergia')\n",
    "plt.xlabel('T (K)')\n",
    "plt.ylabel('energia (J)')\n",
    "plt.legend();"
   ]
  },
  {
   "cell_type": "markdown",
   "metadata": {},
   "source": [
    "É notável a diferença entre os conteúdos de exergia a diferentes temperaturas! Por isso que, em plantas de processo, vapor a alta $T$ é bem valioso: devido ao seu alto teor de exergia. Muito trabalho pode ser obtido a partir de calor a 1000 K, por exemplo!"
   ]
  },
  {
   "cell_type": "markdown",
   "metadata": {},
   "source": [
    "### 2.4 Eficiências de primeiro e segundo tipo\n",
    "\n",
    "Há duas formas de se calcular a eficiência termodinâmica de um processo, a depender de qual lei da termodinâmica serve como base para o cálculo.\n",
    "\n",
    "A eficiência de primeiro tipo, baseada na primeira lei da termodinâmica, é definida como:\n",
    "\n",
    "$$ \\eta^{I} = \\displaystyle\\frac{\\displaystyle\\sum_i E_i}{\\displaystyle\\sum_m E_m} $$\n",
    "\n",
    "$E$ é a energia, $\\sum_i$, o somatório das correntes úteis e $\\sum_m$, o somatório de todas as correntes. A eficiência de primeiro tipo foi a utilizada anteriormente neste *notebook* para os cálculos de eficiência de máquina térmica. Ela leva em conta apenas as quantidades (e não as qualidades) de energia gasta e obtida na operação. Portanto, tem como base a primeira lei da termodinâmica.\n",
    "\n",
    "A segunda lei da termodinâmica, entretanto, indica que é impossível atingir a eficiência de 100%. O limite máximo fica bem abaixo. Por que não definir uma nova eficiência, cujo limite máximo seja aquele imposto pela segunda lei? É exatamente isso o que faz a eficiência de segundo tipo, baseada na segunda lei, dada por:\n",
    "\n",
    "$$ \\eta^{II} = \\displaystyle\\frac{\\displaystyle\\sum_i Ex_i}{\\displaystyle\\sum_m Ex_m}$$\n",
    "\n",
    "$Ex$ é a exergia, $\\sum_i$, o somatório das correntes úteis e $\\sum_m$, o somatório de todas as correntes. \n",
    "\n",
    "É importante entender as diferenças entre os significados dessas eficiências: enquanto $\\eta^{I}$ mede o quanto é obtido em relação ao quanto foi gasto para essa obtenção, $\\eta^{II}$ mede o quanto foi obtido em relação ao máximo possível de ser obtido."
   ]
  },
  {
   "cell_type": "markdown",
   "metadata": {},
   "source": [
    "## 3. Plantas de potência a vapor\n",
    "\n",
    "A maior parte da produção de eletricidade no mundo se dá em plantas de potência a vapor. Tais plantas são no fundo grandes máquinas térmicas em que o fluido de trabalho, a água, passa por mudanças de estado líquido-vapor ao longo do ciclo.\n",
    "\n",
    "O modelo que serve como base para o entendimento do funcionamento das plantas a vapor é o *ciclo de Rankine*, apresentado na figura abaixo.\n",
    "\n",
    "<img src=\"https://image.ibb.co/gTycfR/ideal_pure.png\" width=\"320\"/>\n",
    "\n",
    "Lembre-se de que, para qualquer substância pura, a determinação de duas de suas propriedades especifica completamente seu estado termodinâmico. Portanto, a marcação da temperatura $T$ e da entropia $s$ no diagrama acima especifica em que estado se encontra a água.\n",
    "\n",
    "A curva vermelha, em formato de U, representa o envelope de saturação. Um estado exatamente sobre o envelope corresponde à saturação: do lado esquerdo está o líquido saturado, e, do lado direito, vapor saturado. Dentro do envelope se encontram os estados de equilíbrio líquido-vapor: quanto mais perto do lado esquerdo, maior a quantidade de líquido; quanto mais perto do lado direito, maior a quantidade de vapor. No jargão da área, a proporção de vapor no sistema bifásico é denominada *qualidade*.\n",
    "\n",
    "### 3.1 Caso 1 - Ciclo de Rankine propriamente dito\n",
    "\n",
    "#### 3.1.1 - Ciclo de Rankine ideal - caso base\n",
    "\n",
    "O ciclo de Rankine ideal é o próprio ciclo que está representado na figura do começo desta Seção. Nesse caso, a operação se dá sem nenhuma irreversibilidade interna. A única fonte de irreversibilidades é a troca de temperaturas a uma diferença finita no evaporador e no condensador (etapas 2->3 e 4->1). As operações de compressão (1->2) e expansão (3->4) são consideradas reversíveis e, portanto, isentrópicas; como não geram entropia, também não destroem exergia.\n",
    "\n",
    "No exemplo específico aqui analisado, as condições conhecidas são:\n",
    "\n",
    "* $P_1 = 75$ kPa (pressão do condensador);\n",
    "* $P_3 = 3$ MPa e $T_3 = 350^{\\circ}$C (pressão e temperatura final do evaporador);\n",
    "* $ T_0 = 300$ e $T_q = 800 $ K (temperaturas ambiente e da fonte quente).\n",
    "\n",
    "Para começar a análise, é preciso calcular as propriedades de vapor. Isso é feito utilizando o módulo [IAWPS](https://pypi.python.org/pypi/iapws).\n",
    "\n",
    "Cada corrente do processo é definido como uma instância da classe IAPWS97, importada do módulo [IAWPS](https://pypi.python.org/pypi/iapws). Ao construtor da instância, devem ser fornecidas duas propriedades para que a condição da corrente seja completamente especificada. \n",
    "\n",
    "Abaixo, uma função chamada **print_properties** é definida para tornar mais fácil a impressão das propriedades de cada corrente na tela. A função deve aceitar o objeto correspondente à corrente e um número que a identifica no ciclo."
   ]
  },
  {
   "cell_type": "code",
   "execution_count": 3,
   "metadata": {
    "ExecuteTime": {
     "end_time": "2017-12-20T09:36:11.329376Z",
     "start_time": "2017-12-20T09:36:11.264881Z"
    },
    "collapsed": true
   },
   "outputs": [],
   "source": [
    "def print_properties(corr, id):\n",
    "    \n",
    "    print('----------')\n",
    "    print('CORRENTE '+str(id))\n",
    "    print('----------')\n",
    "    \n",
    "    print('T:', corr.T,'K')\n",
    "    print('P:', corr.P,'MPa')\n",
    "    print('v:', corr.v,'m^3/kg')\n",
    "    print('h:', corr.h,'kJ/kg')\n",
    "    print('s:', corr.s,'kJ/kg K')"
   ]
  },
  {
   "cell_type": "markdown",
   "metadata": {},
   "source": [
    "Para definir a corrente 1 (saída do condensador e alimentação da bomba), especifica-se sua pressão (fornecida) e qualidade (nula, correspondente à condição de líquido saturado). A corrente 2 (saída da bomba e alimentação do refervedor) é definida pela pressão (igual à da corrente 3, já que a operação no refervedor é isobárica) e pela entropia (igual à da corrente 1, já que a operação no compressor é isentrópica). A condição da corrente 3 (saída do refervedor e alimentação da turbina) é completamente especificada pelas informações fornecidas. A corrente 4 (saída da turbina e alimentação do condensador) é determinada utilizando-se a entropia (lembrar que a expansão na turbina é isentrópica, como na bomba).\n",
    "\n",
    "A seguir, esses passos são implementados:"
   ]
  },
  {
   "cell_type": "code",
   "execution_count": 4,
   "metadata": {
    "ExecuteTime": {
     "end_time": "2017-12-20T09:36:11.654827Z",
     "start_time": "2017-12-20T09:36:11.352474Z"
    }
   },
   "outputs": [
    {
     "name": "stdout",
     "output_type": "stream",
     "text": [
      "----------\n",
      "CORRENTE 1\n",
      "----------\n",
      "T: 364.90779128713774 K\n",
      "P: 0.075 MPa\n",
      "v: 0.0010372190358311562 m^3/kg\n",
      "h: 384.36547579253715 kJ/kg\n",
      "s: 1.2129634483689353 kJ/kg K\n",
      "----------\n",
      "CORRENTE 2\n",
      "----------\n",
      "T: 365.0933635759776 K\n",
      "P: 3.0 MPa\n",
      "v: 0.0010359183018938609 m^3/kg\n",
      "h: 387.3974360614888 kJ/kg\n",
      "s: 1.2129634483689329 kJ/kg K\n",
      "----------\n",
      "CORRENTE 3\n",
      "----------\n",
      "T: 623.15 K\n",
      "P: 3.0 MPa\n",
      "v: 0.09055500685170695 m^3/kg\n",
      "h: 3116.0621790826153 kJ/kg\n",
      "s: 6.744920373754706 kJ/kg K\n",
      "----------\n",
      "CORRENTE 4\n",
      "----------\n",
      "T: 364.90779128713774 K\n",
      "P: 0.075 MPa\n",
      "v: 1.9647802413444628 m^3/kg\n",
      "h: 2403.029761870146 kJ/kg\n",
      "s: 6.744920373754706 kJ/kg K\n"
     ]
    }
   ],
   "source": [
    "##############\n",
    "# CORRENTE 1\n",
    "##############\n",
    "\n",
    "# propriedades da corrente 1\n",
    "P1 = 0.075\n",
    "x1 = 0.\n",
    "\n",
    "# definindo corrente 1\n",
    "cor1 = IAPWS97(P=P1, x = x1)\n",
    "\n",
    "# imprimindo propriedades da corrente 1\n",
    "print_properties(cor1,1)\n",
    "\n",
    "##############\n",
    "# CORRENTE 2\n",
    "##############\n",
    "\n",
    "# propriedades da corrente 2\n",
    "P2 = 3.\n",
    "s2 = cor1.s\n",
    "\n",
    "# definindo corrente 2\n",
    "cor2 = IAPWS97(P=P2, s = s2)\n",
    "\n",
    "# imprimindo propriedades da corrente 2\n",
    "print_properties(cor2,2)\n",
    "\n",
    "##############\n",
    "# CORRENTE 3\n",
    "##############\n",
    "\n",
    "# propriedades da corrente 3\n",
    "P3 = 3.\n",
    "T3 = 350+273.15\n",
    "\n",
    "# definindo corrente 3\n",
    "cor3 = IAPWS97(P=P3, T = T3)\n",
    "\n",
    "# imprimindo propriedades da corrente 3\n",
    "print_properties(cor3,3)\n",
    "\n",
    "##############\n",
    "# CORRENTE 4\n",
    "##############\n",
    "\n",
    "# propriedades da corrente 4\n",
    "P4 = P1\n",
    "s4 = cor3.s\n",
    "\n",
    "# definindo corrente 4\n",
    "cor4 = IAPWS97(P=P4, s = s4)\n",
    "\n",
    "# imprimindo propriedades da corrente 4\n",
    "print_properties(cor4,4)"
   ]
  },
  {
   "cell_type": "markdown",
   "metadata": {},
   "source": [
    "É interessante notar que o cálculo de propriedades do vapor, geralmente uma fonte de desalento para alunos de graduação devido às inúmeras interpolações e consultas a extensas tabelas, se torna bastante facilitada. Entretanto, apesar da facilidade, o programador ainda tem pleno controle e entendimento do fluxo do cálculo.\n",
    "\n",
    "Abaixo é definida uma função para traçado do diagrama TS do ciclo."
   ]
  },
  {
   "cell_type": "code",
   "execution_count": 5,
   "metadata": {
    "ExecuteTime": {
     "end_time": "2017-12-20T09:36:11.938234Z",
     "start_time": "2017-12-20T09:36:11.658082Z"
    },
    "collapsed": true
   },
   "outputs": [],
   "source": [
    "def diagrama_TS_rankine (T_range, P_points, cor_array, ax):\n",
    "    \n",
    "    cor1       = cor_array[0]\n",
    "    cor2_ideal = cor_array[1]\n",
    "    cor2       = cor_array[2]\n",
    "    cor3       = cor_array[3]\n",
    "    cor4_ideal = cor_array[4]\n",
    "    cor4       = cor_array[5]\n",
    "    \n",
    "    # plotando isobáricas determinadas\n",
    "    for P in P_points:\n",
    "        steam = [IAPWS97(T=t, P=P) for t in T_range]\n",
    "        S = [s.s for s in steam]\n",
    "        ax.plot(S, T_range, 'k-')\n",
    "        \n",
    "    # plotando o envelope de saturação\n",
    "    svap = [s.s for s in [IAPWS97(T=t, x=1) for t in T_range]]\n",
    "    sliq = [s.s for s in [IAPWS97(T=t, x=0) for t in T_range]]\n",
    "    ax.plot(svap, T_range, 'k-')\n",
    "    ax.plot(sliq, T_range, 'k-')\n",
    "    \n",
    "    # calculando as isobáricas do processo\n",
    "    \n",
    "    T23 = np.linspace(cor2.T, cor3.T)\n",
    "    S23 = [s.s for s in [IAPWS97(P=cor2.P, T=t) for t in T23]]\n",
    "    \n",
    "    S41 = np.linspace(cor4.s,cor1.s)\n",
    "    T41 = [t.T for t in [IAPWS97(P=P1, s=S) for S in S41]]\n",
    "    \n",
    "    # plotando o processo!\n",
    "        \n",
    "    # 1 -> 2 (ideal)\n",
    "    ax.plot([cor1.s, cor2_ideal.s], [cor1.T, cor2_ideal.T], 'r--', lw=4)\n",
    "    \n",
    "    # 1 -> 2 (real)\n",
    "    ax.plot([cor1.s, cor1.s], [cor1.T, cor2.T], 'r-', lw=4)\n",
    "\n",
    "    # 2 -> 3\n",
    "    ax.plot(S23, T23, lw=4) \n",
    "    \n",
    "    # 3 -> 4 (ideal)\n",
    "    ax.plot([cor3.s, cor4_ideal.s], [cor3.T, cor4_ideal.T], 'g--', lw=4)\n",
    "    \n",
    "    # 3 -> 4 (real)\n",
    "    ax.plot([cor3.s, cor4.s], [cor3.T, cor4.T], 'g-', lw=4)\n",
    "    \n",
    "    # 4 -> 1\n",
    "    ax.plot(S41, T41, lw=4)\n",
    "    \n",
    "    ax.set_xlabel('Entropia (kJ/(kg K)')\n",
    "    ax.set_ylabel('Temperatura (K)')\n",
    "    ax.set_title('Diagrama TS - Ciclo de Rankine')"
   ]
  },
  {
   "cell_type": "markdown",
   "metadata": {},
   "source": [
    "A função **diagrama_TS** pode ser usada para plotar o diagrama de qualquer ciclo de Rankine clássico. Na célula abaixo ela é usada usada para plotar o diagrama do exemplo específico:"
   ]
  },
  {
   "cell_type": "code",
   "execution_count": 6,
   "metadata": {
    "ExecuteTime": {
     "end_time": "2017-12-20T09:36:12.799104Z",
     "start_time": "2017-12-20T09:36:11.942204Z"
    }
   },
   "outputs": [
    {
     "data": {
      "image/png": "[encoded data removed]",
      "text/plain": [
       "<matplotlib.figure.Figure at 0x10d5efc50>"
      ]
     },
     "metadata": {},
     "output_type": "display_data"
    }
   ],
   "source": [
    "T_range =  np.linspace(300, 372+273, 30)\n",
    "P_points = [0.1, 1, 2, 5, 10, 20]\n",
    "cor_array = [cor1, cor2, cor2, cor3, cor4, cor4]\n",
    "\n",
    "diagrama_TS_rankine (T_range, P_points, cor_array, plt.gca())"
   ]
  },
  {
   "cell_type": "markdown",
   "metadata": {},
   "source": [
    "Ao contrário de como é geralmente apresentado nos livros-texto, a elevação de temperatura da etapa 1->2 na bomba é imperceptível no diagrama!\n",
    "\n",
    "Para calcular a eficiência de primeiro tipo, será usada a equação:\n",
    "\n",
    "$$\\eta^{I} = 1 - \\frac{Q_c}{Q_h}$$\n",
    "\n",
    "Para calcular a eficiência do segundo tipo, serão usadas as seguintes expressões para a perda (destruição) de exergia e para a eficiência propriamente dita:\n",
    "\n",
    "$$Ex_{loss} = T_0 \\Delta S^{total} = T_0 \\left(\\Delta s + \\frac{Q_{out}}{T_{out}} - \\frac{Q_{in}}{T_{in}}\\right)$$\n",
    "\n",
    "$$\\eta^{II} = 1 - \\frac{Ex_{loss}}{Ex_{gasto}}$$\n",
    "\n",
    "Uma classe que contém funções para calcular essas eficiências é definida abaixo:"
   ]
  },
  {
   "cell_type": "code",
   "execution_count": 7,
   "metadata": {
    "ExecuteTime": {
     "end_time": "2017-12-20T09:36:13.572254Z",
     "start_time": "2017-12-20T09:36:12.804013Z"
    },
    "collapsed": true
   },
   "outputs": [],
   "source": [
    "class analise_eta_rankine (object):\n",
    "    \n",
    "    def __init__ (self, T0, Th, cor_array, eta_bomba = 1.0, eta_turb = 1.0):\n",
    "        \n",
    "        self.T_0 = T0\n",
    "        self.T_h = Th\n",
    "        self.eta_bomba = eta_bomba\n",
    "        self.eta_turb = eta_turb\n",
    "        \n",
    "        self.cor1 = cor_array[0]\n",
    "        self.cor2 = cor_array[1]\n",
    "        self.cor3 = cor_array[2]\n",
    "        self.cor4 = cor_array[3]\n",
    "                \n",
    "        # calores envolvidos\n",
    "        self.q_h =  self.cor3.h - self.cor2.h\n",
    "        self.q_c = self.cor4.h - self.cor1.h\n",
    "        \n",
    "        # trabalhos envolvidos\n",
    "        self.w_bomba = self.cor1.v*(self.cor2.P-self.cor1.P)*1e3/self.eta_bomba\n",
    "        self.w_turb  = (self.cor3.h-self.cor4.h)\n",
    "        \n",
    "    def calc_Eta1 (self):\n",
    "                \n",
    "        self.eta_1st_law = self.w_turb/(self.q_h+self.w_bomba)\n",
    "        \n",
    "    def calc_Ex_loss (self):\n",
    "        \n",
    "        # bomba\n",
    "        self.Ex_loss_1_2 = self.w_bomba*(1./self.eta_bomba-1)\n",
    "    \n",
    "        # refervedor\n",
    "        self.Ex_loss_2_3 = self.T_0*(self.cor3.s-self.cor2.s-self.q_h/self.T_h)\n",
    "        #self.Ex_loss_2_3 = self.cor2.h - self.cor3.h - self.T_0*(self.cor2.s-self.cor3.s) + (1-self.T_0/self.T_h)*self.q_h\n",
    "        \n",
    "        # turbina\n",
    "        self.Ex_loss_3_4 = self.w_turb*(1./self.eta_turb-1.)\n",
    "\n",
    "        # condensador\n",
    "        self.Ex_loss_4_1 = self.T_0*(self.cor1.s-self.cor4.s+self.q_c/self.T_0)\n",
    "\n",
    "        # total\n",
    "        self.Ex_loss_total = self.Ex_loss_1_2 + self.Ex_loss_2_3 + self.Ex_loss_3_4 + self.Ex_loss_4_1\n",
    "         \n",
    "        # fracoes da Ex perdida\n",
    "        self.frac_Ex_loss_1_2 = self.Ex_loss_2_3/self.Ex_loss_total\n",
    "        self.frac_Ex_loss_2_3 = self.Ex_loss_2_3/self.Ex_loss_total\n",
    "        self.frac_Ex_loss_3_4 = self.Ex_loss_2_3/self.Ex_loss_total\n",
    "        self.frac_Ex_loss_4_1 = self.Ex_loss_4_1/self.Ex_loss_total\n",
    "        \n",
    "    def calc_Ex_gasto (self):\n",
    "        \n",
    "        # bomba (=trabalho da bomba!)\n",
    "        self.Ex_gasto_1_2 = self.w_bomba\n",
    "\n",
    "        # refervedor (= eficiencia de carnot * calor trocado!)\n",
    "        self.Ex_gasto_2_3 = (1.-self.T_0/self.T_h)*self.q_h\n",
    "\n",
    "        # total\n",
    "        self.Ex_gasto_total = self.Ex_gasto_1_2+self.Ex_gasto_2_3\n",
    "        \n",
    "    def calc_Eta2 (self):\n",
    "        \n",
    "        self.eta_2nd_law = 1.0 - self.Ex_loss_total/self.Ex_gasto_total\n",
    "        \n",
    "    def calc_all (self):\n",
    "        \n",
    "        self.calc_Eta1()\n",
    "        self.calc_Ex_loss()\n",
    "        self.calc_Ex_gasto()\n",
    "        self.calc_Eta2()\n",
    "        \n",
    "    def print_results (self):\n",
    "        \n",
    "        print('Calor do refervedor: ',self.q_h,'kJ/kg')\n",
    "        print('Calor do condensador: ', self.q_c,'kJ/kg')\n",
    "        print('Trabalho da bomba: ', self.w_bomba,'kJ/kg')\n",
    "        print('Trabalho da turbina: ', self.w_turb,'kJ/kg')\n",
    "        print('------------------------------------------------')\n",
    "        print('Eficiência de primeiro tipo: ',self.eta_1st_law)\n",
    "        \n",
    "        print('------------------------------------------------')\n",
    "        print('------------------------------------------------')\n",
    "        \n",
    "        print('Perda de exergia do refervedor: ',self.Ex_loss_2_3,'kJ/kg')\n",
    "        print('Perda de exergia do condensador:', self.Ex_loss_4_1,'kJ/kg')\n",
    "        print('Perda de exergia da bomba: ', self.Ex_loss_1_2,'kJ/kg')\n",
    "        print('Perda de exergia da turbina: ', self.Ex_loss_3_4,'kJ/kg')\n",
    "        print('------------------------------------------------')\n",
    "        print('% da perda de exergia no refervedor: ',self.Ex_loss_2_3/self.Ex_loss_total)\n",
    "        print('% da perda de exergia no condensador: ',self.Ex_loss_4_1/self.Ex_loss_total)\n",
    "        print('% da perda de exergia na bomba: ',self.Ex_loss_1_2/self.Ex_loss_total)\n",
    "        print('% da perda de exergia na turbina: ',self.Ex_loss_3_4/self.Ex_loss_total)\n",
    "        \n",
    "        print('------------------------------------------------')\n",
    "        print('------------------------------------------------')\n",
    "        \n",
    "        print('Gasto de exergia da bomba: ',self.Ex_gasto_1_2,'kJ/kg')\n",
    "        print('Gasto de exergia do refervedor:',self.Ex_gasto_2_3,'kJ/kg')\n",
    "        print('------------------------------------------------')\n",
    "        print('% do gasto de exergia na bomba: ',self.Ex_gasto_1_2/self.Ex_gasto_total)\n",
    "        print('% do gasto de exergia no refervedor: ',self.Ex_gasto_2_3/self.Ex_gasto_total)\n",
    "        \n",
    "        print('------------------------------------------------')\n",
    "        print('------------------------------------------------')\n",
    "        \n",
    "        print('Eficiência do segundo tipo:',self.eta_2nd_law)"
   ]
  },
  {
   "cell_type": "markdown",
   "metadata": {},
   "source": [
    "Abaixo, a classe **analise_eta_rankine** é usada para os cálculos referentes ao exemplo específico:"
   ]
  },
  {
   "cell_type": "code",
   "execution_count": 8,
   "metadata": {
    "ExecuteTime": {
     "end_time": "2017-12-20T09:36:13.597624Z",
     "start_time": "2017-12-20T09:36:13.574223Z"
    },
    "scrolled": false
   },
   "outputs": [
    {
     "name": "stdout",
     "output_type": "stream",
     "text": [
      "------------------------------------------------\n",
      "Análise energética e exergética: P1 = 75 kPa, P3 = 3 MPa, T3 = 350 K, T0 = 300 K e Tq = 800 K\n",
      "------------------------------------------------\n",
      "Calor do refervedor:  2728.6647430211265 kJ/kg\n",
      "Calor do condensador:  2018.664286077609 kJ/kg\n",
      "Trabalho da bomba:  3.033865679806132 kJ/kg\n",
      "Trabalho da turbina:  713.0324172124692 kJ/kg\n",
      "------------------------------------------------\n",
      "Eficiência de primeiro tipo:  0.26102162769396947\n",
      "------------------------------------------------\n",
      "------------------------------------------------\n",
      "Perda de exergia do refervedor:  636.3377989828093 kJ/kg\n",
      "Perda de exergia do condensador: 359.0772084618776 kJ/kg\n",
      "Perda de exergia da bomba:  0.0 kJ/kg\n",
      "Perda de exergia da turbina:  0.0 kJ/kg\n",
      "------------------------------------------------\n",
      "% da perda de exergia no refervedor:  0.6392688418635976\n",
      "% da perda de exergia no condensador:  0.3607311581364025\n",
      "% da perda de exergia na bomba:  0.0\n",
      "% da perda de exergia na turbina:  0.0\n",
      "------------------------------------------------\n",
      "------------------------------------------------\n",
      "Gasto de exergia da bomba:  3.033865679806132 kJ/kg\n",
      "Gasto de exergia do refervedor: 1705.415464388204 kJ/kg\n",
      "------------------------------------------------\n",
      "% do gasto de exergia na bomba:  0.0017758007957340818\n",
      "% do gasto de exergia no refervedor:  0.9982241992042659\n",
      "------------------------------------------------\n",
      "------------------------------------------------\n",
      "Eficiência do segundo tipo: 0.4173576061485761\n"
     ]
    }
   ],
   "source": [
    "# temperatura ambiente\n",
    "T_0 = 300\n",
    "\n",
    "# temperatura da fonte quente\n",
    "T_h = 800\n",
    "\n",
    "analise1 = analise_eta_rankine (T_0, T_h, [cor1, cor2, cor3, cor4])\n",
    "analise1.calc_all()\n",
    "print('------------------------------------------------')\n",
    "print('Análise energética e exergética: P1 = 75 kPa, P3 = 3 MPa, T3 = 350 K, T0 = 300 K e Tq = 800 K')\n",
    "print('------------------------------------------------')\n",
    "analise1.print_results()"
   ]
  },
  {
   "cell_type": "markdown",
   "metadata": {},
   "source": [
    "A análise exergética permite concluir que o protagonista do processo, do ponto de vista exergético, é o refervedor! A maior parte da ineficiência do processo e praticamente todo o gasto de exergia é resultante da troca de calor na fonte quente. \n",
    "\n",
    "Podemos nos perguntar o que fazer para aumentar a eficiência do ciclo de Rankine ideal. Três opções são:\n",
    "\n",
    "* diminuir a pressão do condensador;\n",
    "* superaquecer o vapor a altas temperaturas;\n",
    "* aumentar a pressão no refervedor.\n",
    "\n",
    "Todas essas modificações tem como base o aumento e a diminuição das temperatura média com que se troca calor no refervedor e no condensador, respectivamente.\n",
    "\n",
    "Vejamos o que ocorre com as eficiências em cada uma dessas modificações."
   ]
  },
  {
   "cell_type": "markdown",
   "metadata": {},
   "source": [
    "#### 3.1.2 - Ciclo de Rankine ideal - Análise do efeito da variação da pressão do condensador\n",
    "\n",
    "Nessa análise, a pressão do condensador é variada de 0,01 a 0,075 MPa."
   ]
  },
  {
   "cell_type": "code",
   "execution_count": 9,
   "metadata": {
    "ExecuteTime": {
     "end_time": "2017-12-20T09:36:14.464131Z",
     "start_time": "2017-12-20T09:36:13.600443Z"
    },
    "collapsed": true
   },
   "outputs": [],
   "source": [
    "##############\n",
    "# CORRENTE 1\n",
    "##############\n",
    "\n",
    "P1 = np.linspace(0.01,0.075,100)\n",
    "x1 = 0.\n",
    "cor1 = []\n",
    "for p in P1:\n",
    "    cor1.append(IAPWS97(P=p, x = x1))\n",
    "\n",
    "##############\n",
    "# CORRENTE 2\n",
    "##############\n",
    "\n",
    "P2 = 3.\n",
    "cor2 = []\n",
    "for cor in cor1:\n",
    "    s2 = cor.s\n",
    "    cor2.append(IAPWS97(P=P2, s = s2))\n",
    "\n",
    "##############\n",
    "# CORRENTE 3\n",
    "##############\n",
    "\n",
    "P3 = 3.\n",
    "T3 = 350. +273.15\n",
    "cor3 = IAPWS97(P=P3, T = T3)\n",
    "    \n",
    "##############\n",
    "# CORRENTE 4\n",
    "##############    \n",
    "    \n",
    "P4 = P1\n",
    "s4 = cor3.s\n",
    "cor4 = []\n",
    "for p in P4:\n",
    "    cor4.append(IAPWS97(P=p, s = s4))"
   ]
  },
  {
   "cell_type": "markdown",
   "metadata": {},
   "source": [
    "Definidas as correntes, pode-se realizar os cálculos:"
   ]
  },
  {
   "cell_type": "code",
   "execution_count": 10,
   "metadata": {
    "ExecuteTime": {
     "end_time": "2017-12-20T09:36:14.485808Z",
     "start_time": "2017-12-20T09:36:14.466593Z"
    },
    "collapsed": true
   },
   "outputs": [],
   "source": [
    "# temperatura ambiente\n",
    "T_0 = 300\n",
    "\n",
    "# temperatura da fonte quente\n",
    "T_h = 800\n",
    "\n",
    "analise2 = []\n",
    "\n",
    "for i in range(len(cor1)):\n",
    "    analise2.append(analise_eta_rankine(T_0, T_h, [cor1[i], cor2[i], cor3, cor4[i]]))\n",
    "    analise2[i].calc_all()"
   ]
  },
  {
   "cell_type": "markdown",
   "metadata": {
    "ExecuteTime": {
     "end_time": "2017-12-19T18:50:01.238465Z",
     "start_time": "2017-12-19T18:50:01.232674Z"
    }
   },
   "source": [
    "A seguir, as eficiências são plotadas."
   ]
  },
  {
   "cell_type": "code",
   "execution_count": 11,
   "metadata": {
    "ExecuteTime": {
     "end_time": "2017-12-20T09:36:14.915137Z",
     "start_time": "2017-12-20T09:36:14.489500Z"
    }
   },
   "outputs": [
    {
     "data": {
      "image/png": "[encoded data removed]",
      "text/plain": [
       "<matplotlib.figure.Figure at 0x10d6d64e0>"
      ]
     },
     "metadata": {},
     "output_type": "display_data"
    }
   ],
   "source": [
    "plt.plot(P1, [analise2[i].eta_1st_law for i in range(len(P1))], label='Tipo 1')\n",
    "plt.plot(P1, [analise2[i].eta_2nd_law for i in range(len(P1))], label='Tipo 2')\n",
    "plt.title('Ciclo de Rankine ideal')\n",
    "plt.xlabel('Pressão no condensador (MPa)')\n",
    "plt.ylabel('Eficiência')\n",
    "plt.legend();"
   ]
  },
  {
   "cell_type": "markdown",
   "metadata": {},
   "source": [
    "Nota-se que as eficiências aumentam no mesmo sentido, conforme diminui-se a pressão no condensador.\n",
    "\n",
    "Uma pergunta válida é: como as frações de perda de exergia variam conforme a pressão no condensador varia?"
   ]
  },
  {
   "cell_type": "code",
   "execution_count": 12,
   "metadata": {
    "ExecuteTime": {
     "end_time": "2017-12-20T09:36:15.287315Z",
     "start_time": "2017-12-20T09:36:14.919089Z"
    }
   },
   "outputs": [
    {
     "data": {
      "image/png": "[encoded data removed]",
      "text/plain": [
       "<matplotlib.figure.Figure at 0x10d6d6710>"
      ]
     },
     "metadata": {},
     "output_type": "display_data"
    }
   ],
   "source": [
    "plt.plot(P1,[analise2[i].frac_Ex_loss_2_3 for i in range(len(P1))],label='refervedor')\n",
    "plt.plot(P1,[analise2[i].frac_Ex_loss_4_1 for i in range(len(P1))],label='condensador')\n",
    "plt.title('Ciclo de Rankine ideal')\n",
    "plt.xlabel('Pressão no condensador (MPa)')\n",
    "plt.ylabel('Fração da perda de exergia')\n",
    "plt.legend();"
   ]
  },
  {
   "cell_type": "markdown",
   "metadata": {},
   "source": [
    "Quanto menor a pressão do condensador, menor também a fração da exergia total perdida durante a operação de condensação."
   ]
  },
  {
   "cell_type": "markdown",
   "metadata": {},
   "source": [
    "#### 3.1.3 Ciclo de Rankine ideal - Efeito da variação da temperatura de saída do refervedor\n",
    "\n",
    "Nessa análise, a temperatura do refervedor é variada de 350 a 600 K, enquanto a pressão no condensador é mantida a 0,01 MPa."
   ]
  },
  {
   "cell_type": "code",
   "execution_count": 13,
   "metadata": {
    "ExecuteTime": {
     "end_time": "2017-12-20T09:36:15.599999Z",
     "start_time": "2017-12-20T09:36:15.290688Z"
    },
    "collapsed": true
   },
   "outputs": [],
   "source": [
    "##############\n",
    "# CORRENTE 1\n",
    "##############\n",
    "\n",
    "P1 = 0.01\n",
    "x1 = 0.\n",
    "cor1 = IAPWS97(P=P1, x = x1)\n",
    "\n",
    "##############\n",
    "# CORRENTE 2\n",
    "##############\n",
    "\n",
    "P2 = 3.\n",
    "s2 = cor1.s\n",
    "cor2 = IAPWS97(P=P2, s = s2)\n",
    "\n",
    "##############\n",
    "# CORRENTE 3\n",
    "##############\n",
    "\n",
    "P3 = 3.\n",
    "T3 = np.linspace(350,600,100)+273.15\n",
    "\n",
    "cor3 = []\n",
    "for t in T3:\n",
    "    cor3.append(IAPWS97(P=P3, T = t))\n",
    "    \n",
    "##############\n",
    "# CORRENTE 4\n",
    "##############    \n",
    "    \n",
    "P4 = P1\n",
    "\n",
    "cor4 = []\n",
    "for cor in cor3:\n",
    "    s4 = cor.s\n",
    "    cor4.append(IAPWS97(P=P4, s = s4))"
   ]
  },
  {
   "cell_type": "markdown",
   "metadata": {},
   "source": [
    "Efetuando os cálculos:"
   ]
  },
  {
   "cell_type": "code",
   "execution_count": 14,
   "metadata": {
    "ExecuteTime": {
     "end_time": "2017-12-20T09:36:15.614471Z",
     "start_time": "2017-12-20T09:36:15.602383Z"
    },
    "collapsed": true
   },
   "outputs": [],
   "source": [
    "# temperatura ambiente\n",
    "T_0 = 300\n",
    "\n",
    "# temperatura da fonte quente\n",
    "T_h = 800\n",
    "\n",
    "analise3 = []\n",
    "for i in range(len(cor3)):\n",
    "    analise3.append(analise_eta_rankine(T_0, T_h, [cor1, cor2, cor3[i], cor4[i]]))\n",
    "    analise3[i].calc_all()"
   ]
  },
  {
   "cell_type": "markdown",
   "metadata": {},
   "source": [
    "Checando o comportamento das eficiências e destruição de exergia em cada etapa:"
   ]
  },
  {
   "cell_type": "code",
   "execution_count": 15,
   "metadata": {
    "ExecuteTime": {
     "end_time": "2017-12-20T09:36:16.038274Z",
     "start_time": "2017-12-20T09:36:15.617668Z"
    },
    "scrolled": true
   },
   "outputs": [
    {
     "data": {
      "image/png": "[encoded data removed]",
      "text/plain": [
       "<matplotlib.figure.Figure at 0x10db6f908>"
      ]
     },
     "metadata": {},
     "output_type": "display_data"
    }
   ],
   "source": [
    "plt.plot(T3,[analise3[i].eta_1st_law for i in range(len(T3))],label='Tipo 1')\n",
    "plt.plot(T3,[analise3[i].eta_2nd_law for i in range(len(T3))],label='Tipo 2')\n",
    "plt.title('Ciclo de Rankine ideal')\n",
    "plt.xlabel('Temperatura na saída do refervedor (K)')\n",
    "plt.ylabel('Eficiência')\n",
    "plt.legend();"
   ]
  },
  {
   "cell_type": "code",
   "execution_count": 16,
   "metadata": {
    "ExecuteTime": {
     "end_time": "2017-12-20T09:36:16.735213Z",
     "start_time": "2017-12-20T09:36:16.042301Z"
    }
   },
   "outputs": [
    {
     "data": {
      "image/png": "[encoded data removed]",
      "text/plain": [
       "<matplotlib.figure.Figure at 0x10db771d0>"
      ]
     },
     "metadata": {},
     "output_type": "display_data"
    }
   ],
   "source": [
    "fig, ax = plt.subplots(2,1)\n",
    "ax[0].plot(T3,[analise3[i].frac_Ex_loss_2_3 for i in range(len(T3))])\n",
    "ax[1].plot(T3,[analise3[i].frac_Ex_loss_4_1 for i in range(len(T3))]);"
   ]
  },
  {
   "cell_type": "markdown",
   "metadata": {},
   "source": [
    "Nota-se que o efeito do aumento da temperatura aumenta a eficiência global, mas pouco interfere na distribuição de irreversibilidades entre refervedor e condensador."
   ]
  },
  {
   "cell_type": "markdown",
   "metadata": {},
   "source": [
    "#### 3.1.4 Ciclo de Rankine ideal - Efeito da variação da pressão do refervedor\n",
    "\n",
    "Nessa análise, a pressão do refervedor é variada de 3 MPa a 15 MPa, mantendo-se a pressão no condensador a 0,01 MPa e a temperatura na saída do refervedor a 600$^{\\circ}$C."
   ]
  },
  {
   "cell_type": "code",
   "execution_count": 17,
   "metadata": {
    "ExecuteTime": {
     "end_time": "2017-12-20T09:36:16.990734Z",
     "start_time": "2017-12-20T09:36:16.747078Z"
    },
    "collapsed": true
   },
   "outputs": [],
   "source": [
    "##############\n",
    "# CORRENTE 1\n",
    "##############\n",
    "\n",
    "P1 = 0.01\n",
    "x1 = 0.\n",
    "cor1 = IAPWS97(P=P1, x = x1)\n",
    "\n",
    "##############\n",
    "# CORRENTE 2\n",
    "##############\n",
    "\n",
    "s2 = cor1.s\n",
    "P2 = np.linspace(3,15,10)\n",
    "cor2 = []\n",
    "for p in P2:\n",
    "    cor2.append(IAPWS97(P=p, s = s2))\n",
    "\n",
    "##############\n",
    "# CORRENTE 3\n",
    "##############\n",
    "\n",
    "P3 = P2\n",
    "T3 =600+273.15\n",
    "cor3 = []\n",
    "for p in P3:\n",
    "    cor3.append(IAPWS97(P=p, T = T3))\n",
    "    \n",
    "##############\n",
    "# CORRENTE 4\n",
    "##############    \n",
    "    \n",
    "P4 = P1\n",
    "cor4 = []\n",
    "for cor in cor3:\n",
    "    s4 = cor.s\n",
    "    cor4.append(IAPWS97(P=P4, s = s4))"
   ]
  },
  {
   "cell_type": "markdown",
   "metadata": {},
   "source": [
    "Efetuando os cálculos:"
   ]
  },
  {
   "cell_type": "code",
   "execution_count": 18,
   "metadata": {
    "ExecuteTime": {
     "end_time": "2017-12-20T09:36:17.004194Z",
     "start_time": "2017-12-20T09:36:16.993594Z"
    },
    "collapsed": true
   },
   "outputs": [],
   "source": [
    "# temperatura ambiente\n",
    "T_0 = 300\n",
    "\n",
    "# temperatura da fonte quente\n",
    "T_h = 800\n",
    "\n",
    "analise4 = []\n",
    "\n",
    "for i in range(len(cor2)):\n",
    "        \n",
    "    analise4.append(analise_eta_rankine(T_0, T_h, [cor1, cor2[i], cor3[i], cor4[i]]))\n",
    "    analise4[i].calc_all()"
   ]
  },
  {
   "cell_type": "markdown",
   "metadata": {},
   "source": [
    "Plotando os resultados:"
   ]
  },
  {
   "cell_type": "code",
   "execution_count": 19,
   "metadata": {
    "ExecuteTime": {
     "end_time": "2017-12-20T09:36:17.480585Z",
     "start_time": "2017-12-20T09:36:17.007391Z"
    }
   },
   "outputs": [
    {
     "data": {
      "image/png": "[encoded data removed]",
      "text/plain": [
       "<matplotlib.figure.Figure at 0x10db63d30>"
      ]
     },
     "metadata": {},
     "output_type": "display_data"
    }
   ],
   "source": [
    "plt.plot(P2,[analise4[i].eta_1st_law for i in range(len(P2))], label='Tipo 1')\n",
    "plt.plot(P2,[analise4[i].eta_2nd_law for i in range(len(P2))], label='Tipo 2')\n",
    "plt.title('Ciclo de Rankine ideal')\n",
    "plt.xlabel('Pressão no refervedor (MPa)')\n",
    "plt.ylabel('Eficiência')\n",
    "plt.legend();"
   ]
  },
  {
   "cell_type": "code",
   "execution_count": 20,
   "metadata": {
    "ExecuteTime": {
     "end_time": "2017-12-20T09:36:17.953803Z",
     "start_time": "2017-12-20T09:36:17.515950Z"
    }
   },
   "outputs": [
    {
     "data": {
      "image/png": "[encoded data removed]",
      "text/plain": [
       "<matplotlib.figure.Figure at 0x10dd511d0>"
      ]
     },
     "metadata": {},
     "output_type": "display_data"
    }
   ],
   "source": [
    "fig, ax = plt.subplots(2,1)\n",
    "ax[0].plot(P2,[analise4[i].frac_Ex_loss_2_3 for i in range(len(P2))])\n",
    "ax[1].plot(P2,[analise4[i].frac_Ex_loss_4_1 for i in range(len(P2))]);"
   ]
  },
  {
   "cell_type": "markdown",
   "metadata": {},
   "source": [
    "O aumento de eficiência é bastante alto, chegando-se a eficiências do segundo tipo próximas a 0,70. À semelhança do exemplo anterior, as distribuições de irreversibilidades entre refervedor e condensador não mudam muito, apesar do aumento de eficiência.\n",
    "\n",
    "Parece que chegamos ao melhor dos mundos, certo? Basta aumentar $T_3$ e $P_3$ e diminuir $P_1$ cada vez mais, até atingirmos a maior eficiência possível. Problema resolvido.\n",
    "\n",
    "Bom, na engenharia, as coisas não são assim tão simples. Vários empecilhos de ordem prática impedem que se aumente $T_3$ e $P_3$ e diminua $P_1$ indiscriminadamente em uma planta de processo. Um dos principais problemas está relacionado ao aumento de $P_3$: aumentar a pressão do refervedor leva a uma diminuição da qualidade do vapor que sai da turbina (ou seja, a um aumento de seu teor de líquido). Isso causa diversos contratempos, como erosão das pás da turbina, entre outros. \n",
    "\n",
    "Podemos checar essa afirmação por meio de um gráfico da qualidade do vapor na saída da turbina em função da pressão no refervedor:"
   ]
  },
  {
   "cell_type": "code",
   "execution_count": 21,
   "metadata": {
    "ExecuteTime": {
     "end_time": "2017-12-20T09:36:18.171364Z",
     "start_time": "2017-12-20T09:36:17.956165Z"
    }
   },
   "outputs": [
    {
     "data": {
      "image/png": "[encoded data removed]",
      "text/plain": [
       "<matplotlib.figure.Figure at 0x10de6d048>"
      ]
     },
     "metadata": {},
     "output_type": "display_data"
    }
   ],
   "source": [
    "plt.plot(P2,[analise4[i].cor4.x for i in range(len(P2))])\n",
    "plt.title('Ciclo de Rankine ideal')\n",
    "plt.xlabel('Pressão no refervedor (MPa)')\n",
    "plt.ylabel('Qualidade do vapor na saída da turbina')\n",
    "plt.legend();"
   ]
  },
  {
   "cell_type": "markdown",
   "metadata": {},
   "source": [
    "E agora? Será que há como tirar proveito da maior eficiência da planta quando se opera a altas pressões no refervedor, mas sem o inconveniente de lidar com vapor de baixa qualidade na turbina?\n",
    "\n",
    "Sim, há alguns jeitos de contornar esse problema. Um dos mais comuns é operar o ciclo de Rankine com reaquecimento, como ilustrado na próxima Seção."
   ]
  },
  {
   "cell_type": "markdown",
   "metadata": {},
   "source": [
    "### 3.2 Ciclo de Rankine ideal com reaquecimento\n",
    "\n",
    "O ciclo de Rankine com reaquecimento aqui analisado é ilustrado na figura abaixo.\n",
    "\n",
    "<img src=\"https://preview.ibb.co/c79Tn6/ideal_reheat_rankine.png\" width=\"700\"/>\n",
    "\n",
    "Nesse caso, o processo de expansão ocorre em dois estágios: duas turbinas, ditas de alta pressão e de baixa pressão. A vantagem do reaquecimento é aumentar a temperatura média na qual o calor é transferido ao vapor, diminuindo assim as irreversibilidades. De acordo com [Çengel (2014)](https://www.amazon.com/Thermodynamics-Engineering-Yunus-Cengel-Dr/dp/0073398179), em uma planta moderna, a realização do reaquecimento aumenta a eficiência em 4 a 5 %. \n",
    "\n",
    "Para a análise do processo, o procedimento é o mesmo que para o primeiro caso: definir instâncias da classe IAPWS97 para cada uma das correntes:"
   ]
  },
  {
   "cell_type": "code",
   "execution_count": 22,
   "metadata": {
    "ExecuteTime": {
     "end_time": "2017-12-20T09:36:18.342026Z",
     "start_time": "2017-12-20T09:36:18.176950Z"
    }
   },
   "outputs": [
    {
     "name": "stdout",
     "output_type": "stream",
     "text": [
      "----------\n",
      "CORRENTE 1\n",
      "----------\n",
      "T: 318.9575482070235 K\n",
      "P: 0.01 MPa\n",
      "v: 0.0010102605727006792 m^3/kg\n",
      "h: 191.8122951935644 kJ/kg\n",
      "s: 0.6492180830236388 kJ/kg K\n",
      "----------\n",
      "CORRENTE 2\n",
      "----------\n",
      "T: 319.45550226332836 K\n",
      "P: 15 MPa\n",
      "v: 0.001003953654197977 m^3/kg\n",
      "h: 206.9084747572476 kJ/kg\n",
      "s: 0.6492180830236384 kJ/kg K\n",
      "----------\n",
      "CORRENTE 3\n",
      "----------\n",
      "T: 873.15 K\n",
      "P: 15 MPa\n",
      "v: 0.024920716841127465 m^3/kg\n",
      "h: 3583.3076060480553 kJ/kg\n",
      "s: 6.679732769800013 kJ/kg K\n",
      "----------\n",
      "CORRENTE 4\n",
      "----------\n",
      "T: 647.866376971 K\n",
      "P: 4 MPa\n",
      "v: 0.0699698429283 m^3/kg\n",
      "h: 3153.97558313 kJ/kg\n",
      "s: 6.6797327698 kJ/kg K\n",
      "----------\n",
      "CORRENTE 5\n",
      "----------\n",
      "T: 873.15 K\n",
      "P: 4 MPa\n",
      "v: 0.09885744461957571 m^3/kg\n",
      "h: 3674.847923629506 kJ/kg\n",
      "s: 7.370439905047392 kJ/kg K\n",
      "----------\n",
      "CORRENTE 6\n",
      "----------\n",
      "T: 318.9575482070235 K\n",
      "P: 0.01 MPa\n",
      "v: 13.144925475846916 m^3/kg\n",
      "h: 2335.1111744075397 kJ/kg\n",
      "s: 7.368927061614932 kJ/kg K\n"
     ]
    }
   ],
   "source": [
    "P1 = 10e-3\n",
    "x1 = 0\n",
    "cor1 = IAPWS97(P=P1, x = x1)\n",
    "print_properties(cor1,1)\n",
    "\n",
    "P2 = 15\n",
    "s2 = cor1.s\n",
    "cor2 = IAPWS97(P=P2, s = s2)\n",
    "print_properties(cor2,2)\n",
    "\n",
    "P3 = 15\n",
    "T3 = 600+273.15\n",
    "cor3 = IAPWS97(P=P3, T = T3)\n",
    "print_properties(cor3,3)\n",
    "\n",
    "P4 = 4\n",
    "s2 = cor3.s\n",
    "cor4 = IAPWS97(P=P4, s = s4)\n",
    "print_properties(cor4,4)\n",
    "\n",
    "T5 = 600+273.15\n",
    "P5 = 4\n",
    "cor5 = IAPWS97(T=T5, P = P5)\n",
    "print_properties(cor5,5)\n",
    "\n",
    "P6 = 10e-3\n",
    "x6 = 0.896\n",
    "cor6 = IAPWS97(P=P6, x = x6)\n",
    "print_properties(cor6,6)"
   ]
  },
  {
   "cell_type": "markdown",
   "metadata": {},
   "source": [
    "Como o processo introduz uma modificação no ciclo de Rankine, é preciso redefinir a função de traçado do diagrama TS de modo a abarcar essas modificações:"
   ]
  },
  {
   "cell_type": "code",
   "execution_count": 23,
   "metadata": {
    "ExecuteTime": {
     "end_time": "2017-12-20T09:36:18.893029Z",
     "start_time": "2017-12-20T09:36:18.345395Z"
    },
    "collapsed": true
   },
   "outputs": [],
   "source": [
    "def diagrama_TS_reheat (T_range, P_points, cor_array, ax):\n",
    "    \n",
    "    cor1 =       cor_array[0]\n",
    "    cor2_ideal = cor_array[1]\n",
    "    cor2 =       cor_array[2]\n",
    "    cor3 =       cor_array[3]\n",
    "    cor4_ideal = cor_array[4]\n",
    "    cor4       = cor_array[5]\n",
    "    cor5 =       cor_array[6]\n",
    "    cor6_ideal = cor_array[7]\n",
    "    cor6 =       cor_array[8]\n",
    "    \n",
    "    # plotando isobáricas pedidas\n",
    "    for P in P_points:\n",
    "        steam = [IAPWS97(T=t, P=P) for t in T_range]\n",
    "        S = [s.s for s in steam]\n",
    "        ax.plot(S, T_range, 'k-')\n",
    "        \n",
    "    # plotando o envelope de saturação\n",
    "    svap = [s.s for s in [IAPWS97(T=t, x=1) for t in T_range]]\n",
    "    sliq = [s.s for s in [IAPWS97(T=t, x=0) for t in T_range]]\n",
    "    ax.plot(svap, T_range, 'k-')\n",
    "    ax.plot(sliq, T_range, 'k-')\n",
    "    \n",
    "    # calculando as isobáricas do processo\n",
    "    \n",
    "    T23 = np.linspace(cor2.T, cor3.T)\n",
    "    S23 = [s.s for s in [IAPWS97(P=cor2.P, T=t) for t in T23]]\n",
    "    \n",
    "    T45 = np.linspace(cor4.T, cor5.T)\n",
    "    S45 = [s.s for s in [IAPWS97(P=cor4.P, T=t) for t in T45]]\n",
    "    \n",
    "    S61 = np.linspace(cor6.s,cor1.s)\n",
    "    T61 = [t.T for t in [IAPWS97(P=P1, s=S) for S in S61]]\n",
    "    \n",
    "    # 1 -> 2 (ideal)\n",
    "    ax.plot([cor1.s, cor2_ideal.s], [cor1.T, cor2_ideal.T], 'r--', lw=4)     \n",
    "    \n",
    "    # 1 -> 2 (real)\n",
    "    ax.plot([cor1.s, cor2.s], [cor1.T, cor2.T], 'r-', lw=4) \n",
    "    \n",
    "    # 2 -> 3\n",
    "    ax.plot(S23, T23, lw=4) \n",
    "    \n",
    "    # 3 -> 4 (ideal)\n",
    "    ax.plot([cor3.s, cor4_ideal.s], [cor3.T, cor4_ideal.T], 'g--', lw=4)\n",
    "    \n",
    "    # 3 -> 4 (real)\n",
    "    ax.plot([cor3.s, cor4.s], [cor3.T, cor4.T], 'g-', lw=4)\n",
    "    \n",
    "    # 4 -> 5\n",
    "    ax.plot(S45, T45, lw=4)\n",
    "    \n",
    "    # 5 -> 6 (ideal)\n",
    "    ax.plot([cor5.s, cor6_ideal.s], [cor5.T, cor6.T], 'g--', lw=4) \n",
    "    \n",
    "    # 5 -> 6 (real)\n",
    "    ax.plot([cor5.s, cor6_ideal.s], [cor5.T, cor6.T], 'g-', lw=4) \n",
    "    \n",
    "    # 6 -> 1\n",
    "    ax.plot(S61, T61, lw=4)\n",
    "    \n",
    "    ax.set_xlabel('Entropy (kJ/(kg K)')\n",
    "    ax.set_ylabel('Temperature (K)')\n",
    "    ax.set_title('Diagrama TS - Ciclo de Rankine Ideal com Reaquecimento')"
   ]
  },
  {
   "cell_type": "markdown",
   "metadata": {},
   "source": [
    "É importante destacar que a escrita de outra função para o diagrama com reaquecimento é a solução mais fácil e rápida, mas não a mais eficiente e elegante do ponto de vista computacional, já que a quantidade de código duplicado nas duas funções sugere que há como criar uma única função que incorpore a funcionalidade de ambas, utilizando recursos de programação avançada como o paradigma da orientação a objetos.\n",
    "\n",
    "Traçando o diagrama do exemplo específico:"
   ]
  },
  {
   "cell_type": "code",
   "execution_count": 24,
   "metadata": {
    "ExecuteTime": {
     "end_time": "2017-12-20T09:36:20.871687Z",
     "start_time": "2017-12-20T09:36:18.896146Z"
    }
   },
   "outputs": [
    {
     "data": {
      "image/png": "[encoded data removed]",
      "text/plain": [
       "<matplotlib.figure.Figure at 0x10df775f8>"
      ]
     },
     "metadata": {},
     "output_type": "display_data"
    }
   ],
   "source": [
    "T_range =  np.linspace(300, 372+273, 200)\n",
    "P_points = [0.1, 1, 2, 5, 10, 20]\n",
    "cor_array = [cor1, cor2, cor2, cor3, cor4, cor4, cor5, cor6, cor6]\n",
    "\n",
    "diagrama_TS_reheat (T_range, P_points, cor_array, plt.gca())"
   ]
  },
  {
   "cell_type": "markdown",
   "metadata": {},
   "source": [
    "Também é necessário redefinir a classe para a análise do processo:"
   ]
  },
  {
   "cell_type": "code",
   "execution_count": 25,
   "metadata": {
    "ExecuteTime": {
     "end_time": "2017-12-20T09:36:22.132430Z",
     "start_time": "2017-12-20T09:36:20.875713Z"
    },
    "collapsed": true
   },
   "outputs": [],
   "source": [
    "class analise_eta_rankine_reheat (object):\n",
    "    \n",
    "    def __init__ (self, T0, Th, cor_array, eta_bomba = 1.0, eta_turbina = 1.0):\n",
    "        \n",
    "        self.T_0 = T0\n",
    "        self.T_h = Th\n",
    "        self.eta_bomba = eta_bomba\n",
    "        self.eta_turbina = eta_turbina\n",
    "        \n",
    "        self.cor1 = cor_array[0]\n",
    "        self.cor2 = cor_array[1]\n",
    "        self.cor3 = cor_array[2]\n",
    "        self.cor4 = cor_array[3]\n",
    "        self.cor5 = cor_array[4]\n",
    "        self.cor6 = cor_array[5]\n",
    "                \n",
    "        self.q_h =  self.cor3.h - self.cor2.h + self.cor5.h - self.cor4.h\n",
    "        self.q_c = self.cor6.h - self.cor1.h\n",
    "        \n",
    "    def calc_Eta1 (self):\n",
    "                \n",
    "        self.eta_1st_law = 1.0 - self.q_c/self.q_h\n",
    "        \n",
    "    def calc_Ex_loss (self):\n",
    "        \n",
    "        # refervedor, passe 1\n",
    "        self.Ex_loss_2_3 = self.T_0*(self.cor3.s-self.cor2.s-(self.cor3.h - self.cor2.h)/self.T_h)\n",
    "\n",
    "        # refervedor, passe 2\n",
    "        self.Ex_loss_4_5 = self.T_0*(self.cor5.s-self.cor4.s-(self.cor5.h - self.cor4.h)/self.T_h)\n",
    "\n",
    "        # condensador\n",
    "        self.Ex_loss_6_1 = self.T_0*(self.cor1.s-self.cor6.s+self.q_c/self.T_0)\n",
    "        \n",
    "        # total\n",
    "        self.Ex_loss_total = self.Ex_loss_2_3+self.Ex_loss_4_5+self.Ex_loss_6_1\n",
    "        \n",
    "        # frações\n",
    "        self.frac_Ex_loss_2_3 = self.Ex_loss_2_3/self.Ex_loss_total\n",
    "        self.frac_Ex_loss_4_5 = self.Ex_loss_4_5/self.Ex_loss_total\n",
    "        self.frac_Ex_loss_6_1 = self.Ex_loss_6_1/self.Ex_loss_total\n",
    "        \n",
    "    def calc_Ex_gasto (self):\n",
    "        \n",
    "        # bomba (=trabalho da bomba!)\n",
    "        self.Ex_gasto_1_2 = self.cor1.v*(self.cor2.P-self.cor1.P)*1e3\n",
    "\n",
    "        # refervedor, passe 1 (= eficiencia de carnot!)\n",
    "        self.Ex_gasto_2_3 = (1.-self.T_0/self.T_h)*(self.cor3.h - self.cor2.h)\n",
    "\n",
    "        # refervedor, passe 2 (= eficiencia de carnot!)\n",
    "        self.Ex_gasto_4_5 = (1.-self.T_0/self.T_h)*(self.cor5.h - self.cor4.h)\n",
    "        \n",
    "        # total\n",
    "        self.Ex_gasto_total = self.Ex_gasto_1_2 + self.Ex_gasto_2_3 + self.Ex_gasto_4_5\n",
    "        \n",
    "    def calc_Eta2 (self):\n",
    "        \n",
    "        self.eta_2nd_law = 1.0 - self.Ex_loss_total/self.Ex_gasto_total\n",
    "        \n",
    "    def calc_all (self):\n",
    "        \n",
    "        self.calc_Eta1()\n",
    "        self.calc_Ex_loss()\n",
    "        self.calc_Ex_gasto()\n",
    "        self.calc_Eta2()\n",
    "        \n",
    "    def print_results (self):\n",
    "        \n",
    "        print('Calor do refervedor: ',self.q_h,'kJ/kg')\n",
    "        print('Calor do condensador: ', self.q_c,'kJ/kg')\n",
    "        print('------------------------------------------------')\n",
    "        print('Eficiência de primeiro tipo: ',self.eta_1st_law)\n",
    "        \n",
    "        print('------------------------------------------------')\n",
    "        print('------------------------------------------------')\n",
    "        \n",
    "        print('Perda de exergia, aquecimento 1:',self.Ex_loss_2_3,'kJ/kg')\n",
    "        print('Perda de exergia, aquecimento 2:', self.Ex_loss_4_5,'kJ/kg')\n",
    "        print('Perda de exergia, resfriamento:', self.Ex_loss_6_1,'kJ/kg')\n",
    "        print('------------------------------------------------')\n",
    "        print('% da perda de exergia, aquecimento 1: ',self.Ex_loss_2_3/(self.Ex_loss_2_3+self.Ex_loss_4_5+self.Ex_loss_6_1))\n",
    "        print('% da perda de exergia, aquecimento 2: ',self.Ex_loss_4_5/(self.Ex_loss_2_3+self.Ex_loss_4_5+self.Ex_loss_6_1))\n",
    "        print('% da perda de exergia, resfriamento: ',self.Ex_loss_6_1/(self.Ex_loss_2_3+self.Ex_loss_4_5+self.Ex_loss_6_1))\n",
    "        \n",
    "        print('------------------------------------------------')\n",
    "        print('------------------------------------------------')\n",
    "        \n",
    "        print('Gasto de exergia na bomba:',self.Ex_gasto_1_2,'kJ/kg')\n",
    "        print('Gasto de exergia no aquecimento 1:',self.Ex_gasto_2_3,'kJ/kg')\n",
    "        print('Gasto de exergia no aquecimento 2:',self.Ex_gasto_4_5,'kJ/kg')\n",
    "\n",
    "        print('------------------------------------------------')\n",
    "        print('% do gasto de exergia na bomba: ',self.Ex_gasto_1_2/(self.Ex_gasto_1_2+self.Ex_gasto_2_3+self.Ex_gasto_4_5))\n",
    "        print('% do gasto, etapa aquecimento 1: ',self.Ex_gasto_2_3/(self.Ex_gasto_1_2+self.Ex_gasto_2_3+self.Ex_gasto_4_5))\n",
    "        print('% do gasto, etapa aquecimento 2: ',self.Ex_gasto_4_5/(self.Ex_gasto_1_2+self.Ex_gasto_2_3+self.Ex_gasto_4_5))\n",
    "        \n",
    "        print('------------------------------------------------')\n",
    "        print('------------------------------------------------')\n",
    "        \n",
    "        print('Eficiência do segundo tipo:',self.eta_2nd_law)"
   ]
  },
  {
   "cell_type": "markdown",
   "metadata": {},
   "source": [
    "Efetuando os cálculos:"
   ]
  },
  {
   "cell_type": "code",
   "execution_count": 26,
   "metadata": {
    "ExecuteTime": {
     "end_time": "2017-12-20T09:36:22.249541Z",
     "start_time": "2017-12-20T09:36:22.142747Z"
    }
   },
   "outputs": [
    {
     "name": "stdout",
     "output_type": "stream",
     "text": [
      "------------------------------------------------\n",
      "Ciclo de Rankine ideal com reaquecimento - Análise energética e exergética\n",
      "P1 = 10 kPa, P3 = 15 MPa, T3 = 600 K, T0 = 300 K e Tq = 800 K\n",
      "------------------------------------------------\n",
      "Calor do refervedor:  3897.27147179 kJ/kg\n",
      "Calor do condensador:  2143.2988792139754 kJ/kg\n",
      "------------------------------------------------\n",
      "Eficiência de primeiro tipo:  0.450051428358\n",
      "------------------------------------------------\n",
      "------------------------------------------------\n",
      "Perda de exergia, aquecimento 1: 543.0047317988596 kJ/kg\n",
      "Perda de exergia, aquecimento 2: 11.8850128867 kJ/kg\n",
      "Perda de exergia, resfriamento: 127.38618563658744 kJ/kg\n",
      "------------------------------------------------\n",
      "% da perda de exergia, aquecimento 1:  0.79587261937\n",
      "% da perda de exergia, aquecimento 2:  0.0174196572948\n",
      "% da perda de exergia, resfriamento:  0.186707723335\n",
      "------------------------------------------------\n",
      "------------------------------------------------\n",
      "Gasto de exergia na bomba: 15.143805984783182 kJ/kg\n",
      "Gasto de exergia no aquecimento 1: 2110.249457056755 kJ/kg\n",
      "Gasto de exergia no aquecimento 2: 325.545212812 kJ/kg\n",
      "------------------------------------------------\n",
      "% do gasto de exergia na bomba:  0.00617877851034\n",
      "% do gasto, etapa aquecimento 1:  0.860996503114\n",
      "% do gasto, etapa aquecimento 2:  0.132824718376\n",
      "------------------------------------------------\n",
      "------------------------------------------------\n",
      "Eficiência do segundo tipo: 0.721626659729\n"
     ]
    }
   ],
   "source": [
    "# temperatura ambiente\n",
    "T_0 = 300\n",
    "\n",
    "# temperatura da fonte quente\n",
    "T_h = 800\n",
    "\n",
    "analise5 = analise_eta_rankine_reheat (T_0, T_h, [cor1, cor2, cor3, cor4, cor5, cor6])\n",
    "analise5.calc_all()\n",
    "print('------------------------------------------------')\n",
    "print('Ciclo de Rankine ideal com reaquecimento - Análise energética e exergética')\n",
    "print('P1 = 10 kPa, P3 = 15 MPa, T3 = 600 K, T0 = 300 K e Tq = 800 K')\n",
    "print('------------------------------------------------')\n",
    "analise5.print_results()"
   ]
  },
  {
   "cell_type": "markdown",
   "metadata": {},
   "source": [
    "A título de ilustração, podemos visualizar os resultados para o cálculo realizado na análise anterior, com os mesmos limites de pressão e temperatura, mas sem o reaquecimento:"
   ]
  },
  {
   "cell_type": "code",
   "execution_count": 27,
   "metadata": {
    "ExecuteTime": {
     "end_time": "2017-12-20T09:36:22.277053Z",
     "start_time": "2017-12-20T09:36:22.253509Z"
    }
   },
   "outputs": [
    {
     "name": "stdout",
     "output_type": "stream",
     "text": [
      "Calor do refervedor:  3376.39913129 kJ/kg\n",
      "Calor do condensador:  1923.47546753 kJ/kg\n",
      "Trabalho da bomba:  15.1438059848 kJ/kg\n",
      "Trabalho da turbina:  1468.01984333 kJ/kg\n",
      "------------------------------------------------\n",
      "Eficiência de primeiro tipo:  0.432847193881\n",
      "------------------------------------------------\n",
      "------------------------------------------------\n",
      "Perda de exergia do refervedor:  543.004731799 kJ/kg\n",
      "Perda de exergia do condensador: 114.321061496 kJ/kg\n",
      "Perda de exergia da bomba:  0.0 kJ/kg\n",
      "Perda de exergia da turbina:  0.0 kJ/kg\n",
      "------------------------------------------------\n",
      "% da perda de exergia no refervedor:  0.82608158289\n",
      "% da perda de exergia no condensador:  0.17391841711\n",
      "% da perda de exergia na bomba:  0.0\n",
      "% da perda de exergia na turbina:  0.0\n",
      "------------------------------------------------\n",
      "------------------------------------------------\n",
      "Gasto de exergia da bomba:  15.1438059848 kJ/kg\n",
      "Gasto de exergia do refervedor: 2110.24945706 kJ/kg\n",
      "------------------------------------------------\n",
      "% do gasto de exergia na bomba:  0.00712517831317\n",
      "% do gasto de exergia no refervedor:  0.992874821687\n",
      "------------------------------------------------\n",
      "------------------------------------------------\n",
      "Eficiência do segundo tipo: 0.690727450433\n"
     ]
    }
   ],
   "source": [
    "analise4[-1].print_results()"
   ]
  },
  {
   "cell_type": "markdown",
   "metadata": {},
   "source": [
    "Percebe-se que ambas as eficiências aumentam ligeiramente com o reaquecimento. Mas a grande vantagem dessa técnica reside no aumento da qualidade do vapor:"
   ]
  },
  {
   "cell_type": "code",
   "execution_count": 28,
   "metadata": {
    "ExecuteTime": {
     "end_time": "2017-12-20T09:36:22.292413Z",
     "start_time": "2017-12-20T09:36:22.281074Z"
    }
   },
   "outputs": [
    {
     "name": "stdout",
     "output_type": "stream",
     "text": [
      "Qualidade do vapor, caso sem reaquecimento:  0.804103448016\n",
      "Qualidade do vapor, caso com reaquecimento:  1\n"
     ]
    }
   ],
   "source": [
    "print('Qualidade do vapor, caso sem reaquecimento: ', analise4[-1].cor4.x)\n",
    "print('Qualidade do vapor, caso com reaquecimento: ', analise5.cor4.x)"
   ]
  },
  {
   "cell_type": "markdown",
   "metadata": {},
   "source": [
    "Nesse caso, o reaquecimento, além de aumentar ligeiramente as eficiências, elimina completamente o problema de umidade na turbina!"
   ]
  },
  {
   "cell_type": "markdown",
   "metadata": {},
   "source": [
    "### 3.3 Ciclo Rankine Não-Ideal\n",
    "\n",
    "As análise feitas até agora para um processo sem irreversibilidades internas. Vejamos o que acontece quando o processo possui tais irreversibilidades.\n",
    "\n",
    "O caso a ser estudado apresenta as seguintes especificações:\n",
    "\n",
    "* $P_1 = 75$ kPa;\n",
    "* $P_3 = 3$ MPa e $T_3 = 350^{\\circ}$C;\n",
    "* $ T_0 = 300$, $T_f = 300$ K e $T_q = 800 $ K (temperaturas ambiente, da fonte fria e da fonte quente).\n",
    "* eficiência isentrópica da turbina e da bomba: 0,85 e 0,7.\n",
    "\n",
    "Definindo as correntes:"
   ]
  },
  {
   "cell_type": "code",
   "execution_count": 29,
   "metadata": {
    "ExecuteTime": {
     "end_time": "2017-12-20T09:36:22.950616Z",
     "start_time": "2017-12-20T09:36:22.301089Z"
    },
    "scrolled": false
   },
   "outputs": [
    {
     "name": "stdout",
     "output_type": "stream",
     "text": [
      "----------\n",
      "CORRENTE 1\n",
      "----------\n",
      "T: 364.90779128713774 K\n",
      "P: 0.075 MPa\n",
      "v: 0.0010372190358311562 m^3/kg\n",
      "h: 384.36547579253715 kJ/kg\n",
      "s: 1.2129634483689353 kJ/kg K\n",
      "----------\n",
      "CORRENTE 2, ideal\n",
      "----------\n",
      "T: 365.0933635759776 K\n",
      "P: 3.0 MPa\n",
      "v: 0.0010359183018938609 m^3/kg\n",
      "h: 387.3974360614888 kJ/kg\n",
      "s: 1.2129634483689329 kJ/kg K\n",
      "----------\n",
      "CORRENTE 2\n",
      "----------\n",
      "T: 365.40268645705163 K\n",
      "P: 3.0 MPa\n",
      "v: 0.0010361439349918411 m^3/kg\n",
      "h: 388.6968476053255 kJ/kg\n",
      "s: 1.2165210627164285 kJ/kg K\n",
      "----------\n",
      "CORRENTE 3\n",
      "----------\n",
      "T: 673.15 K\n",
      "P: 3.0 MPa\n",
      "v: 0.0993766406262247 m^3/kg\n",
      "h: 3231.5710272596534 kJ/kg\n",
      "s: 6.923259254971664 kJ/kg K\n",
      "----------\n",
      "CORRENTE 4, ideal\n",
      "----------\n",
      "T: 364.90779128713774 K\n",
      "P: 0.075 MPa\n",
      "v: 2.028087266023023 m^3/kg\n",
      "h: 2468.107334813577 kJ/kg\n",
      "s: 6.923259254971664 kJ/kg K\n",
      "----------\n",
      "CORRENTE 4\n",
      "----------\n",
      "T: 364.90779128713774 K\n",
      "P: 0.075 MPa\n",
      "v: 2.1394911167648565 m^3/kg\n",
      "h: 2582.6268886804955 kJ/kg\n",
      "s: 7.2370891688783265 kJ/kg K\n"
     ]
    }
   ],
   "source": [
    "x = sympy.Symbol('x')\n",
    "eta_bomba = 0.7\n",
    "eta_turbina = 0.85\n",
    "\n",
    "# corrente 1\n",
    "P1 = 75e-3\n",
    "x1 = 0.\n",
    "cor1 = IAPWS97(P=P1, x = x1)\n",
    "print_properties(cor1,1)\n",
    "\n",
    "# corrente 2 (ideal)\n",
    "P2 = 3.\n",
    "s2_ideal = cor1.s\n",
    "cor2_ideal = IAPWS97(P=P2, s = s2_ideal)\n",
    "print_properties(cor2_ideal,'2, ideal')\n",
    "\n",
    "# corrente 2 (real)\n",
    "h2 = sympy.solvers.solve(eta_bomba - (cor2_ideal.h-cor1.h)/(x-cor1.h),x)[0]\n",
    "h2 = float(h2)\n",
    "cor2 = IAPWS97(P=P2, h = h2)\n",
    "print_properties(cor2,2)\n",
    "\n",
    "# corrente 3\n",
    "P3 = 3.\n",
    "T3 = 400+273.15\n",
    "cor3 = IAPWS97(P=P3, T = T3)\n",
    "print_properties(cor3,3)\n",
    "\n",
    "# corrente 4 (ideal)\n",
    "P4 = 75e-3\n",
    "s4_ideal = cor3.s\n",
    "cor4_ideal = IAPWS97(P=P4, s = s4_ideal)\n",
    "print_properties(cor4_ideal,'4, ideal')\n",
    "\n",
    "# corrente 4 (real)\n",
    "h4 = sympy.solvers.solve(eta_turbina - (cor3.h-x)/(cor3.h-cor4_ideal.h),x)[0]\n",
    "h4 = float(h4)\n",
    "cor4 = IAPWS97(P=P4, h = h4)\n",
    "print_properties(cor4,4)"
   ]
  },
  {
   "cell_type": "code",
   "execution_count": 30,
   "metadata": {
    "ExecuteTime": {
     "end_time": "2017-12-20T09:36:25.146975Z",
     "start_time": "2017-12-20T09:36:22.955751Z"
    }
   },
   "outputs": [
    {
     "data": {
      "image/png": "[encoded data removed]",
      "text/plain": [
       "<matplotlib.figure.Figure at 0x10e25b160>"
      ]
     },
     "metadata": {},
     "output_type": "display_data"
    }
   ],
   "source": [
    "T_range =  np.linspace(300, 372+273, 200)\n",
    "P_points = [0.1, 1, 2, 5, 10, 20]\n",
    "cor_array = [cor1, cor2_ideal, cor2, cor3, cor4_ideal, cor4]\n",
    "\n",
    "diagrama_TS_rankine (T_range, P_points, cor_array, plt.gca())"
   ]
  },
  {
   "cell_type": "code",
   "execution_count": 31,
   "metadata": {
    "ExecuteTime": {
     "end_time": "2017-12-20T09:36:25.172434Z",
     "start_time": "2017-12-20T09:36:25.149974Z"
    }
   },
   "outputs": [
    {
     "name": "stdout",
     "output_type": "stream",
     "text": [
      "Ciclo de Rankine - Análise do caso real\n",
      "------------------------------------------------\n",
      "Calor do refervedor:  2842.874179654328 kJ/kg\n",
      "Calor do condensador:  2198.2614128879586 kJ/kg\n",
      "Trabalho da bomba:  3.033865679806132 kJ/kg\n",
      "Trabalho da turbina:  648.9441385791579 kJ/kg\n",
      "------------------------------------------------\n",
      "Eficiência de primeiro tipo:  0.22802709301978386\n",
      "------------------------------------------------\n",
      "------------------------------------------------\n",
      "Perda de exergia do refervedor:  645.9436403061976 kJ/kg\n",
      "Perda de exergia do condensador: 391.0236967351412 kJ/kg\n",
      "Perda de exergia da bomba:  0.0 kJ/kg\n",
      "Perda de exergia da turbina:  114.51955386691024 kJ/kg\n",
      "------------------------------------------------\n",
      "% da perda de exergia no refervedor:  0.5609648233135349\n",
      "% da perda de exergia no condensador:  0.3395815443688782\n",
      "% da perda de exergia na bomba:  0.0\n",
      "% da perda de exergia na turbina:  0.09945363231758685\n",
      "------------------------------------------------\n",
      "------------------------------------------------\n",
      "Gasto de exergia da bomba:  3.033865679806132 kJ/kg\n",
      "Gasto de exergia do refervedor: 1776.7963622839552 kJ/kg\n",
      "------------------------------------------------\n",
      "% do gasto de exergia na bomba:  0.001704581500044005\n",
      "% do gasto de exergia no refervedor:  0.998295418499956\n",
      "------------------------------------------------\n",
      "------------------------------------------------\n",
      "Eficiência do segundo tipo: 0.35303554641522017\n"
     ]
    }
   ],
   "source": [
    "print('Ciclo de Rankine - Análise do caso real')\n",
    "print('------------------------------------------------')\n",
    "analise6 = analise_eta_rankine(T_0, T_h, [cor1, cor2, cor3, cor4], eta_bomba = 1, eta_turb = 0.85)\n",
    "analise6.calc_all()\n",
    "analise6.print_results()"
   ]
  },
  {
   "cell_type": "code",
   "execution_count": 32,
   "metadata": {
    "ExecuteTime": {
     "end_time": "2017-12-20T09:36:25.198311Z",
     "start_time": "2017-12-20T09:36:25.175272Z"
    }
   },
   "outputs": [
    {
     "name": "stdout",
     "output_type": "stream",
     "text": [
      "Ciclo de Rankine - Análise do caso ideal\n",
      "------------------------------------------------\n",
      "Calor do refervedor:  2844.1735911981646 kJ/kg\n",
      "Calor do condensador:  2083.74185902104 kJ/kg\n",
      "Trabalho da bomba:  3.033865679806132 kJ/kg\n",
      "Trabalho da turbina:  763.4636924460765 kJ/kg\n",
      "------------------------------------------------\n",
      "Eficiência de primeiro tipo:  0.26814473620521917\n",
      "------------------------------------------------\n",
      "------------------------------------------------\n",
      "Perda de exergia do refervedor:  646.5236452815078 kJ/kg\n",
      "Perda de exergia do condensador: 370.6531170402214 kJ/kg\n",
      "Perda de exergia da bomba:  0.0 kJ/kg\n",
      "Perda de exergia da turbina:  0.0 kJ/kg\n",
      "------------------------------------------------\n",
      "% da perda de exergia no refervedor:  0.6356059922228294\n",
      "% da perda de exergia no condensador:  0.36439400777717057\n",
      "% da perda de exergia na bomba:  0.0\n",
      "% da perda de exergia na turbina:  0.0\n",
      "------------------------------------------------\n",
      "------------------------------------------------\n",
      "Gasto de exergia da bomba:  3.033865679806132 kJ/kg\n",
      "Gasto de exergia do refervedor: 1777.608494498853 kJ/kg\n",
      "------------------------------------------------\n",
      "% do gasto de exergia na bomba:  0.0017038040583858354\n",
      "% do gasto de exergia no refervedor:  0.9982961959416141\n",
      "------------------------------------------------\n",
      "------------------------------------------------\n",
      "Eficiência do segundo tipo: 0.42875852834385464\n"
     ]
    }
   ],
   "source": [
    "print('Ciclo de Rankine - Análise do caso ideal')\n",
    "print('------------------------------------------------')\n",
    "      \n",
    "analise7 = analise_eta_rankine(T_0, T_h, [cor1, cor2_ideal, cor3, cor4_ideal],eta_bomba = 1, eta_turb = 1)\n",
    "analise7.calc_all()\n",
    "analise7.print_results()"
   ]
  },
  {
   "cell_type": "markdown",
   "metadata": {},
   "source": [
    "Percebe-se que a irreversibilidade na turbina diminui sobremaneira a eficiência exergética do processo, apesar dos grandes causadores de ineficiência no processo continuarem sendo os trocadores de calor.\n",
    "\n",
    "A análise acima sugere uma análise da sensibilidade das eficiências em relação à eficiência isentrópica na turbina:"
   ]
  },
  {
   "cell_type": "code",
   "execution_count": 33,
   "metadata": {
    "ExecuteTime": {
     "end_time": "2017-12-20T09:36:25.524067Z",
     "start_time": "2017-12-20T09:36:25.201814Z"
    }
   },
   "outputs": [
    {
     "data": {
      "image/png": "[encoded data removed]",
      "text/plain": [
       "<matplotlib.figure.Figure at 0x10df846a0>"
      ]
     },
     "metadata": {},
     "output_type": "display_data"
    }
   ],
   "source": [
    "eta_range = np.linspace(0.5,1,20)\n",
    "\n",
    "analise8 = []\n",
    "for eta in eta_range:\n",
    "    analise8.append(analise_eta_rankine(T_0, T_h, [cor1, cor2, cor3, cor4], eta_bomba = 1, eta_turb = eta))\n",
    "    analise8[-1].calc_all()\n",
    "\n",
    "plt.plot(eta_range,[analise8[i].eta_2nd_law for i in range(len(eta_range))], label='Tipo 2')\n",
    "plt.title('Ciclo de Rankine')\n",
    "plt.xlabel('Eficiência isentrópica na turbina')\n",
    "plt.ylabel('Eficiência exergética da planta (tipo 2)');"
   ]
  },
  {
   "cell_type": "markdown",
   "metadata": {},
   "source": [
    "É interessante notar que, para baixas eficiências isentrópicas na turbina, a eficiência exergética quase se anula."
   ]
  },
  {
   "cell_type": "markdown",
   "metadata": {},
   "source": [
    "## 3.4 Ciclo de Rankine com cogeração\n",
    "\n",
    "Na cogeração, o calor a ser descartado na fonte fria é usado para esquentar uma corrente de processo. É de se esperar, portanto, que a eficiência de primeiro tipo aumente bastante, já que o desperdício quantitativo de energia diminui consideravelmente. Do ponto de vista da segunda lei, entretanto, não é tão óbvio o que deve acontecer com a eficiência de segundo tipo. Nessa seção, irá se analisar o que ocorre em uma planta desse tipo, do ponto de vista energético e exergético.\n",
    "\n",
    "O exemplo aqui analisado é ilustrado abaixo:\n",
    "\n",
    "<a href=\"https://ibb.co/kf5OLR\"><img src=\"https://preview.ibb.co/m5yzum/cogeracao.png\" alt=\"cogeracao\" border=\"0\"></a>\n",
    "\n",
    "Especificando as correntes:"
   ]
  },
  {
   "cell_type": "code",
   "execution_count": 34,
   "metadata": {
    "ExecuteTime": {
     "end_time": "2017-12-20T09:36:25.720402Z",
     "start_time": "2017-12-20T09:36:25.527840Z"
    }
   },
   "outputs": [
    {
     "name": "stdout",
     "output_type": "stream",
     "text": [
      "----------\n",
      "CORRENTE 1\n",
      "----------\n",
      "T: 773.15 K\n",
      "P: 7 MPa\n",
      "v: 0.04815850019755666 m^3/kg\n",
      "h: 3411.250263821653 kJ/kg\n",
      "s: 6.799715110693559 kJ/kg K\n",
      "----------\n",
      "CORRENTE 2\n",
      "----------\n",
      "T: 773.15 K\n",
      "P: 7 MPa\n",
      "v: 0.04815850019755666 m^3/kg\n",
      "h: 3411.250263821653 kJ/kg\n",
      "s: 6.799715110693559 kJ/kg K\n",
      "----------\n",
      "CORRENTE 3\n",
      "----------\n",
      "T: 773.15 K\n",
      "P: 7 MPa\n",
      "v: 0.04815850019755666 m^3/kg\n",
      "h: 3411.250263821653 kJ/kg\n",
      "s: 6.799715110693559 kJ/kg K\n",
      "----------\n",
      "CORRENTE 3\n",
      "----------\n",
      "T: 738.95281232666 K\n",
      "P: 0.5 MPa\n",
      "v: 0.67899375165085 m^3/kg\n",
      "h: 3411.250263821653 kJ/kg\n",
      "s: 7.992328817910098 kJ/kg K\n",
      "----------\n",
      "CORRENTE 5\n",
      "----------\n",
      "T: 424.9862438768451 K\n",
      "P: 0.5 MPa\n",
      "v: 0.37323230867051616 m^3/kg\n",
      "h: 2739.2399972965886 kJ/kg\n",
      "s: 6.799715110693558 kJ/kg K\n",
      "----------\n",
      "CORRENTE 6\n",
      "----------\n",
      "T: 306.02548952376014 K\n",
      "P: 0.005 MPa\n",
      "v: 22.511271591734467 m^3/kg\n",
      "h: 2072.900648873556 kJ/kg\n",
      "s: 6.799715110693559 kJ/kg K\n",
      "----------\n",
      "CORRENTE 7\n",
      "----------\n",
      "T: 424.9862438768451 K\n",
      "P: 0.5 MPa\n",
      "v: 0.001092556654309798 m^3/kg\n",
      "h: 640.1853353633861 kJ/kg\n",
      "s: 1.8605992790566916 kJ/kg K\n",
      "----------\n",
      "CORRENTE 8\n",
      "----------\n",
      "T: 306.02548952376014 K\n",
      "P: 0.005 MPa\n",
      "v: 0.0010053212026866815 m^3/kg\n",
      "h: 137.76511898849057 kJ/kg\n",
      "s: 0.4762537895051024 kJ/kg K\n",
      "----------\n",
      "CORRENTE 9\n",
      "----------\n",
      "T: 306.1984627679524 K\n",
      "P: 7.0 MPa\n",
      "v: 0.0010022839710847763 m^3/kg\n",
      "h: 144.79734080128398 kJ/kg\n",
      "s: 0.47628861470934036 kJ/kg K\n",
      "----------\n",
      "CORRENTE 10\n",
      "----------\n",
      "T: 425.7086645680071 K\n",
      "P: 7.0 MPa\n",
      "v: 0.0010889807014132816 m^3/kg\n",
      "h: 647.2869536164001 kJ/kg\n",
      "s: 1.860626731190494 kJ/kg K\n"
     ]
    }
   ],
   "source": [
    "P1 = 7\n",
    "T1 = 500 + 273.15\n",
    "cor1 = IAPWS97(P=P1, T = T1)\n",
    "print_properties(cor1,1)\n",
    "\n",
    "cor2 = cor1\n",
    "print_properties(cor2,2)\n",
    "\n",
    "cor3 = cor1\n",
    "print_properties(cor3,3)\n",
    "\n",
    "P4 = 5e-1\n",
    "h4 = cor2.h\n",
    "cor4 = IAPWS97(P=P4, h = h4)\n",
    "print_properties(cor4,3)\n",
    "\n",
    "P5 = 5e-1\n",
    "s5 = cor3.s\n",
    "cor5 = IAPWS97(P=P5, s = s5)\n",
    "print_properties(cor5,5)\n",
    "\n",
    "P6 = 5e-3\n",
    "s6 = cor3.s\n",
    "cor6 = IAPWS97(P=P6, s = s6)\n",
    "print_properties(cor6,6)\n",
    "\n",
    "P7 = cor4.P\n",
    "x7 = 0.0\n",
    "cor7 = IAPWS97(P=P7, x = x7)\n",
    "print_properties(cor7,7)\n",
    "\n",
    "P8 = P6\n",
    "x8 = 0.0\n",
    "cor8 = IAPWS97(P=P8, x = x8)\n",
    "print_properties(cor8,8)\n",
    "\n",
    "P9 = 7.0\n",
    "h9 = cor8.h+cor8.v*(P9-P8)*1e3\n",
    "cor9 = IAPWS97(P=P9, h = h9)\n",
    "print_properties(cor9,9)\n",
    "\n",
    "P10 = P9\n",
    "h10 = cor7.h + cor7.v*(P10-P7)*1e3\n",
    "cor10 = IAPWS97(P=P10, h = h10)\n",
    "print_properties(cor10,10)"
   ]
  },
  {
   "cell_type": "markdown",
   "metadata": {},
   "source": [
    "Resta apenas saber a condição da corrente 11. Essa corrente é especificada por meio de um balanço de massa, quando se determina a fração de corrente que é desviada para o aquecedor de processo. Como esse foi parâmetro da análise de sensibilidade aqui realizada, a definição dessa corrente foi feita na classe responsável pela efetuação dos cálculos:"
   ]
  },
  {
   "cell_type": "code",
   "execution_count": 35,
   "metadata": {
    "ExecuteTime": {
     "end_time": "2017-12-20T09:36:27.290322Z",
     "start_time": "2017-12-20T09:36:25.724323Z"
    },
    "collapsed": true
   },
   "outputs": [],
   "source": [
    "class analise_eta_rankine_cogeneration (object):\n",
    "    \n",
    "    def __init__ (self, T0, Th, cor_array, y_valv, y_turb, eta_bomba = [1.0, 1.0], eta_turbina = 1.0):\n",
    "        \n",
    "        self.T_0 = T0\n",
    "        self.T_h = Th\n",
    "        self.eta_bomba = eta_bomba\n",
    "        self.eta_turbina = eta_turbina\n",
    "        \n",
    "        self.y_valv = y_valv\n",
    "        self.y_turb = y_turb\n",
    "        \n",
    "        self.cor1 = cor_array[0]\n",
    "        self.cor2 = cor_array[1]\n",
    "        self.cor3 = cor_array[2]\n",
    "        self.cor4 = cor_array[3]\n",
    "        self.cor5 = cor_array[4]\n",
    "        self.cor6 = cor_array[5]\n",
    "        self.cor7 = cor_array[6]\n",
    "        self.cor8 = cor_array[7]\n",
    "        self.cor9 = cor_array[8]\n",
    "        self.cor10 = cor_array[9]\n",
    "        \n",
    "        h11 = (self.y_valv+self.y_turb) * cor10.h + (1.-self.y_valv-self.y_turb) * cor9.h\n",
    "        self.cor11 = IAPWS97(P=self.cor10.P, h = h11)\n",
    "\n",
    "        # calores do refervedor, do condensador e de processo\n",
    "        self.q_h = self.cor1.h - self.cor11.h\n",
    "        self.q_c = (1.-self.y_valv-self.y_turb)*(self.cor6.h - self.cor8.h)\n",
    "        self.q_p = self.y_valv*self.cor4.h + self.y_turb*self.cor5.h - (self.y_valv+self.y_turb)*self.cor7.h\n",
    "        \n",
    "        # trabalho da bomba I\n",
    "        self.w_bombaI = (1.-self.y_valv-self.y_turb)*self.cor8.v*(self.cor9.P-self.cor8.P)*1e3\n",
    "        \n",
    "        # trabalho da bomba II\n",
    "        self.w_bombaII = (self.y_valv+self.y_turb)*self.cor7.v*(self.cor10.P-self.cor7.P)*1e3\n",
    "        \n",
    "        # trabalho da turbina\n",
    "        self.w_turb = (1.-self.y_valv)*((1-self.y_valv-self.y_turb)*(self.cor3.h-self.cor6.h)+(y_turb)*(self.cor3.h-self.cor5.h))\n",
    "                \n",
    "    def calc_Eta1 (self):\n",
    "                \n",
    "        self.eta_1st_law = (self.q_p+self.w_turb)/(self.w_bombaI+self.w_bombaII+self.q_h)\n",
    "        \n",
    "    def calc_Ex_loss (self):\n",
    "        \n",
    "        # refervedor\n",
    "        self.Ex_loss_11_1 = self.T_0*(self.cor1.s-self.cor11.s-(self.cor1.h - self.cor11.h)/self.T_h)\n",
    "                \n",
    "        # condensador\n",
    "        self.Ex_loss_6_8 = self.T_0*((1.-self.y_valv-self.y_turb)*(self.cor8.s-self.cor6.s)+self.q_c/self.T_0)\n",
    "        \n",
    "        # válvulva\n",
    "        self.Ex_loss_2_4 = self.y_valv*self.T_0*(self.cor4.s-self.cor2.s)\n",
    "        \n",
    "        # aquecedor de processo\n",
    "        self.Ex_loss_4_5_7 = self.T_0*((self.y_valv+self.y_turb)*self.cor7.s-self.y_valv*self.cor4.s-self.y_turb*self.cor5.s+self.q_p/self.T_0)\n",
    "        \n",
    "        # misturador\n",
    "        self.Ex_loss_9_10_11 = self.T_0*(self.cor11.s-(self.y_turb+self.y_valv)*self.cor10.s-(1.-self.y_turb-self.y_valv)*self.cor9.s)\n",
    "        \n",
    "        # total\n",
    "        self.Ex_loss_total = self.Ex_loss_11_1+self.Ex_loss_6_8+self.Ex_loss_2_4+self.Ex_loss_4_5_7+self.Ex_loss_9_10_11\n",
    "        \n",
    "        # frações\n",
    "        self.frac_Ex_loss_11_1 = self.Ex_loss_11_1/self.Ex_loss_total\n",
    "        self.frac_Ex_loss_6_8 = self.Ex_loss_6_8/self.Ex_loss_total\n",
    "        self.frac_Ex_loss_2_4 = self.Ex_loss_2_4/self.Ex_loss_total\n",
    "        self.frac_Ex_loss_4_5_7 = self.Ex_loss_4_5_7/self.Ex_loss_total\n",
    "        self.frac_Ex_loss_9_10_11 = self.Ex_loss_9_10_11/self.Ex_loss_total\n",
    "        \n",
    "    def calc_Ex_gasto (self):\n",
    "        \n",
    "        # bomba 1 (=trabalho da bomba!)\n",
    "        self.Ex_gasto_8_9 = self.w_bombaI\n",
    "    \n",
    "        # bomba 2 (=trabalho da bomba!)\n",
    "        self.Ex_gasto_7_10 = self.w_bombaII\n",
    "\n",
    "        # refervedor (= eficiencia de carnot!)\n",
    "        self.Ex_gasto_11_1 = (1.-self.T_0/self.T_h)*(self.cor1.h - self.cor11.h)\n",
    "        \n",
    "        # total\n",
    "        self.Ex_gasto_total = self.Ex_gasto_8_9 + self.Ex_gasto_7_10 + self.Ex_gasto_11_1\n",
    "        \n",
    "        # frações\n",
    "        self.frac_Ex_gasto_8_9 = self.Ex_gasto_8_9/self.Ex_gasto_total\n",
    "        self.frac_Ex_gasto_7_10 = self.Ex_gasto_7_10/self.Ex_gasto_total\n",
    "        self.frac_Ex_gasto_11_1 = self.Ex_gasto_11_1/self.Ex_gasto_total\n",
    "        \n",
    "    def calc_Eta2 (self):\n",
    "        \n",
    "        self.eta_2nd_law = 1.0 - self.Ex_loss_total/self.Ex_gasto_total\n",
    "        \n",
    "    def calc_all (self):\n",
    "        \n",
    "        self.calc_Eta1()\n",
    "        self.calc_Ex_loss()\n",
    "        self.calc_Ex_gasto()\n",
    "        self.calc_Eta2()\n",
    "        \n",
    "    def print_results (self):\n",
    "        \n",
    "        print('Calor do refervedor: ',self.q_h,'kJ/kg')\n",
    "        print('Calor do condensador: ', self.q_c,'kJ/kg')\n",
    "        print('Calor de processo: ', self.q_p,'kJ/kg')\n",
    "        print('Trabalho da bomba I: ',self.w_bombaI,'kJ/kg')\n",
    "        print('Trabalho da bomba II: ', self.w_bombaII,'kJ/kg')\n",
    "        print('Trabalho da turbina: ', self.w_turb,'kJ/kg')\n",
    "        print('------------------------------------------------')\n",
    "        print('Eficiência de primeiro tipo: ',self.eta_1st_law)\n",
    "        \n",
    "        print('------------------------------------------------')\n",
    "        print('------------------------------------------------')\n",
    "        \n",
    "        print('Perda de exergia, refervedor:',self.Ex_loss_11_1,'kJ/kg')\n",
    "        print('Perda de exergia, condensador:', self.Ex_loss_6_8,'kJ/kg')\n",
    "        print('Perda de exergia, válvula:', self.Ex_loss_2_4,'kJ/kg')\n",
    "        print('Perda de exergia, aquecedor de processo:', self.Ex_loss_4_5_7,'kJ/kg')\n",
    "        print('Perda de exergia, misturador: ',self.Ex_loss_9_10_11,'kJ/kg')\n",
    "        print('------------------------------------------------')\n",
    "        print('% da perda de exergia, refervedor: ',self.frac_Ex_loss_11_1)\n",
    "        print('% da perda de exergia, condensador: ',self.frac_Ex_loss_6_8)\n",
    "        print('% da perda de exergia, válvula: ',self.frac_Ex_loss_2_4)\n",
    "        print('% da perda de exergia, aquecedor de processo: ',self.frac_Ex_loss_4_5_7)\n",
    "        print('% da perda de exergia, misturador: ',self.frac_Ex_loss_9_10_11)\n",
    "        \n",
    "        print('------------------------------------------------')\n",
    "        print('------------------------------------------------')\n",
    "        \n",
    "        print('Gasto de exergia na bomba 1:',self.Ex_gasto_8_9,'kJ/kg')\n",
    "        print('Gasto de exergia na bomba 2:',self.Ex_gasto_7_10,'kJ/kg')\n",
    "        print('Gasto de exergia no refervedor:',self.Ex_gasto_11_1,'kJ/kg')\n",
    "        print('------------------------------------------------')\n",
    "        print('% do gasto de exergia, bomba 1:',self.frac_Ex_gasto_8_9,'kJ/kg')\n",
    "        print('% do gasto de exergia, bomba 2:',self.frac_Ex_gasto_7_10,'kJ/kg')\n",
    "        print('% do gasto de exergia, refervedor:',self.frac_Ex_gasto_11_1,'kJ/kg')\n",
    "        \n",
    "        print('------------------------------------------------')\n",
    "        print('------------------------------------------------')\n",
    "        \n",
    "        print('Eficiência do segundo tipo:',self.eta_2nd_law)"
   ]
  },
  {
   "cell_type": "code",
   "execution_count": 36,
   "metadata": {
    "ExecuteTime": {
     "end_time": "2017-12-20T09:36:27.383861Z",
     "start_time": "2017-12-20T09:36:27.332114Z"
    }
   },
   "outputs": [
    {
     "name": "stdout",
     "output_type": "stream",
     "text": [
      "Calor do refervedor:  2914.7101940497873 kJ/kg\n",
      "Calor do condensador:  580.5406589655197 kJ/kg\n",
      "Calor de processo:  1536.5392900057482 kJ/kg\n",
      "Trabalho da bomba I:  2.1096665438380016 kJ/kg\n",
      "Trabalho da bomba II:  4.97113277710958 kJ/kg\n",
      "Trabalho da turbina:  724.2399399595209 kJ/kg\n",
      "------------------------------------------------\n",
      "Eficiência de primeiro tipo:  0.77376487062037\n",
      "------------------------------------------------\n",
      "------------------------------------------------\n",
      "Perda de exergia, refervedor: 499.6082917376991 kJ/kg\n",
      "Perda de exergia, condensador: 11.429140058558485 kJ/kg\n",
      "Perda de exergia, válvula: 35.77841121649618 kJ/kg\n",
      "Perda de exergia, aquecedor de processo: 463.54655414551 kJ/kg\n",
      "Perda de exergia, misturador:  13.692329827853959 kJ/kg\n",
      "------------------------------------------------\n",
      "% da perda de exergia, refervedor:  0.4878726483769963\n",
      "% da perda de exergia, condensador:  0.01116067311382414\n",
      "% da perda de exergia, válvula:  0.034937987466544064\n",
      "% da perda de exergia, aquecedor de processo:  0.45265798978319055\n",
      "% da perda de exergia, misturador:  0.013370701259445068\n",
      "------------------------------------------------\n",
      "------------------------------------------------\n",
      "Gasto de exergia na bomba 1: 2.1096665438380016 kJ/kg\n",
      "Gasto de exergia na bomba 2: 4.97113277710958 kJ/kg\n",
      "Gasto de exergia no refervedor: 1821.693871281117 kJ/kg\n",
      "------------------------------------------------\n",
      "% do gasto de exergia, bomba 1: 0.0011535956713264529 kJ/kg\n",
      "% do gasto de exergia, bomba 2: 0.0027182861054571563 kJ/kg\n",
      "% do gasto de exergia, refervedor: 0.9961281182232165 kJ/kg\n",
      "------------------------------------------------\n",
      "------------------------------------------------\n",
      "Eficiência do segundo tipo: 0.4400323104601066\n"
     ]
    }
   ],
   "source": [
    "analise9 = analise_eta_rankine_cogeneration (T_0, T_h, [cor1, cor2, cor3, cor4, cor5, cor6, cor7, cor8, cor9, cor10],0.1,0.6,1,1)\n",
    "analise9.calc_all()\n",
    "analise9.print_results()"
   ]
  },
  {
   "cell_type": "markdown",
   "metadata": {},
   "source": [
    "É notável a alta eficiência energética desse processo, já que o desperdício de calor do condensador diminui substancialmente! No entanto, a eficiência exergética não é tão alta.\n",
    "\n",
    "Nas análises abaixo, verifica-se como as eficiências energética e exergética variam com os desvios de corrente para o aquecedor de processo:"
   ]
  },
  {
   "cell_type": "code",
   "execution_count": 37,
   "metadata": {
    "ExecuteTime": {
     "end_time": "2017-12-20T09:36:27.743300Z",
     "start_time": "2017-12-20T09:36:27.387726Z"
    }
   },
   "outputs": [
    {
     "data": {
      "image/png": "[encoded data removed]",
      "text/plain": [
       "<matplotlib.figure.Figure at 0x10e25b0f0>"
      ]
     },
     "metadata": {},
     "output_type": "display_data"
    }
   ],
   "source": [
    "y_turb_range = np.linspace(0,1,10)\n",
    "\n",
    "analise10 = []\n",
    "\n",
    "for y in y_turb_range:\n",
    "    analise10.append(analise_eta_rankine_cogeneration(T_0, T_h, [cor1, cor2, cor3, cor4, cor5, cor6, cor7, cor8, cor9, cor10],y,0,1,1))\n",
    "    analise10[-1].calc_all()\n",
    "      \n",
    "plt.plot(y_turb_range, [analise10[i].eta_1st_law for i in range(len(y_turb_range))],label='tipo 1')\n",
    "plt.plot(y_turb_range, [analise10[i].eta_2nd_law for i in range(len(y_turb_range))],label='tipo 2')\n",
    "plt.xlabel('Abertura da válvula de expansão')\n",
    "plt.ylabel('Eficiência')\n",
    "plt.legend();"
   ]
  },
  {
   "cell_type": "markdown",
   "metadata": {},
   "source": [
    "Quanto maior a abertura da válvula de expansão, maior a eficiência energética e menor a eficiência exergética, até o ponto em que o processo é 100% eficiente do ponto de vista energético (a energia toda se conserva), mas 0 % ineficiente do ponto de vista exergético (a exergia toda é destruída, pois não se realiza trabalho)."
   ]
  },
  {
   "cell_type": "code",
   "execution_count": 38,
   "metadata": {
    "ExecuteTime": {
     "end_time": "2017-12-20T09:36:28.031989Z",
     "start_time": "2017-12-20T09:36:27.746676Z"
    }
   },
   "outputs": [
    {
     "data": {
      "image/png": "[encoded data removed]",
      "text/plain": [
       "<matplotlib.figure.Figure at 0x10ddcc208>"
      ]
     },
     "metadata": {},
     "output_type": "display_data"
    }
   ],
   "source": [
    "y_turb_range = np.linspace(0,1,10)\n",
    "\n",
    "analise9 = []\n",
    "\n",
    "for y in y_turb_range:\n",
    "    analise9.append(analise_eta_rankine_cogeneration(T_0, T_h, [cor1, cor2, cor3, cor4, cor5, cor6, cor7, cor8, cor9, cor10],0,y,1,1))\n",
    "    analise9[-1].calc_all()\n",
    "    \n",
    "    \n",
    "plt.plot(y_turb_range, [analise9[i].eta_1st_law for i in range(len(y_turb_range))],label='tipo 1')\n",
    "plt.plot(y_turb_range, [analise9[i].eta_2nd_law for i in range(len(y_turb_range))],label='tipo 2')\n",
    "plt.xlabel('Fração do desvio do vapor na turbina')\n",
    "plt.ylabel('Eficiência')\n",
    "plt.legend();"
   ]
  },
  {
   "cell_type": "markdown",
   "metadata": {},
   "source": [
    "Esse gráfico confirma a tendência anterior, mas de forma mais branda, já que o desvio de 100% vapor na turbina ainda possibilita a geração de uma quantidade de trabalho.\n",
    "\n",
    "Conclui-se que a cogeração aumenta a eficiência energética de um processo, diminuindo concomitantemente sua eficiência exergética. Via de regra, é recomendável que se use a cogeração quando há necessidade de calor de processo e sua produção independente resultaria em mais irreversibilidades ao total do que a produção acoplada à planta de vapor."
   ]
  },
  {
   "cell_type": "markdown",
   "metadata": {},
   "source": [
    "## Conclusão\n",
    "\n",
    "Neste notebook, foi apresentado o conceito de exergia e sua aplicação na análise de ciclos de potência a vapor. Contabilizar as meras quantidades de energia que entram e saem de um processo muitas vezes não é a melhor forma de verificar sua eficiência, e a contabilização da exergia se mostra mais útil que da energia nesse sentido, já que ela introduz uma forma natural de medir o desempenho dos processos tendo como referência a segunda lei da termodinâmica. Exemplos práticos e simples de programar foram apresentados, e espera-se que o(a) leitor(a) ao fim do texto esteja familiarizado com métodos para análise termodinâmica de processos em linguagem Python."
   ]
  },
  {
   "cell_type": "markdown",
   "metadata": {},
   "source": [
    "## Referências\n",
    "\n",
    "[Thermodynamics: An Engineering Approach - Yunus Çengel e Michael A. Boles - 8a Ed, Mc-Graw Hill, 2015](https://www.amazon.com/Thermodynamics-Engineering-Yunus-Cengel-Dr/dp/0073398179)\n",
    "\n",
    "[Nonequilibrium Thermodynamics - Transport and Rate Processes in Physical, Chemical and Biological Systems - Yasar Demirel - 3a Ed, Elsevier, 2014](https://www.elsevier.com/books/nonequilibrium-thermodynamics/demirel/978-0-444-59557-7)\n",
    "\n",
    "[Animal Farm - George Orwell - Standard Ed, Signet, 2004](https://en.wikipedia.org/wiki/Animal_Farm)\n",
    "\n",
    "[Basic Structures of Reality: Essays in Meta-Physics- Colin McGinn (Ed.) - Oxford Scholarship, 2012](http://www.oxfordscholarship.com/view/10.1093/acprof:oso/9780199841103.001.0001/acprof-9780199841103)\n",
    "\n",
    "[Applied Chemical and Engineering Thermodynamics - Dimitrius Tassios - Springer, 1993](http://www.springer.com/br/book/9783662016473)\n",
    "\n",
    "[Availabily (Exergy Analysis): A Self-Instruction Manual - Martin V. Sussman - 3a Ed, Mulliken House, 1985](https://www.amazon.com/Availability-Exergy-Analysis-Instruction-Manual/dp/B0006YV9FA)\n",
    "\n"
   ]
  }
 ],
 "metadata": {
  "kernelspec": {
   "display_name": "Python 3",
   "language": "python",
   "name": "python3"
  },
  "language_info": {
   "codemirror_mode": {
    "name": "ipython",
    "version": 3
   },
   "file_extension": ".py",
   "mimetype": "text/x-python",
   "name": "python",
   "nbconvert_exporter": "python",
   "pygments_lexer": "ipython3",
   "version": "3.6.8"
  },
  "varInspector": {
   "cols": {
    "lenName": 16,
    "lenType": 16,
    "lenVar": 40
   },
   "kernels_config": {
    "python": {
     "delete_cmd_postfix": "",
     "delete_cmd_prefix": "del ",
     "library": "var_list.py",
     "varRefreshCmd": "print(var_dic_list())"
    },
    "r": {
     "delete_cmd_postfix": ") ",
     "delete_cmd_prefix": "rm(",
     "library": "var_list.r",
     "varRefreshCmd": "cat(var_dic_list()) "
    }
   },
   "types_to_exclude": [
    "module",
    "function",
    "builtin_function_or_method",
    "instance",
    "_Feature"
   ],
   "window_display": false
  }
 },
 "nbformat": 4,
 "nbformat_minor": 2
}
